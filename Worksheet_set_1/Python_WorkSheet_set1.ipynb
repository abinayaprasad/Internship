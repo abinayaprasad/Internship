{
 "cells": [
  {
   "cell_type": "markdown",
   "id": "d413cad7",
   "metadata": {},
   "source": [
    "# 1. Factorial Of a Number"
   ]
  },
  {
   "cell_type": "code",
   "execution_count": 13,
   "id": "d234e941",
   "metadata": {},
   "outputs": [
    {
     "name": "stdout",
     "output_type": "stream",
     "text": [
      "Enter a Number4\n",
      "The Factorial 4 is: 24\n"
     ]
    }
   ],
   "source": [
    "# here in this program we are going to find the Factorial of the given Number \n",
    "# factorial of n!=1*2*3.....n or n*(n-1)*(n-2)*(n-3)...1\n",
    "\n",
    "n = int(input(\"Enter a Number\" ))\n",
    "fact=1\n",
    "if n<0:\n",
    "    print(\"Sorry No Factorial for Negative Numbers\")\n",
    "elif n==0:\n",
    "    print(f\"The factorial {n} is: 1\")\n",
    "else:\n",
    "    for i in range(1,n+1):\n",
    "        fact=fact*i\n",
    "    print(f\"The Factorial {n} is: {fact}\")"
   ]
  },
  {
   "cell_type": "markdown",
   "id": "6e80e7fa",
   "metadata": {},
   "source": [
    "# 2. Prime or Composite Number:"
   ]
  },
  {
   "cell_type": "code",
   "execution_count": 24,
   "id": "948c5185",
   "metadata": {},
   "outputs": [
    {
     "name": "stdout",
     "output_type": "stream",
     "text": [
      "Enter a Number:2\n",
      "2 Is a Prime Number\n"
     ]
    }
   ],
   "source": [
    "\n",
    "def primecomp(n):\n",
    "    if (n==0)or(n==1):\n",
    "        print(n, \"Is a neither a Prime or Composite Number\")\n",
    "    else:\n",
    "        if(n>1):\n",
    "            for i in range(2,n):\n",
    "                if(n%i==0):\n",
    "                    print(n, \"Is a Composite Number\")\n",
    "                    break\n",
    "            else:\n",
    "                print(n, \"Is a Prime Number\")\n",
    "\n",
    "num=int(input(\"Enter a Number:\"))\n",
    "primecomp(num)\n"
   ]
  },
  {
   "cell_type": "markdown",
   "id": "f66511dd",
   "metadata": {},
   "source": [
    "# 3.Given String is Palindrom or not:"
   ]
  },
  {
   "cell_type": "code",
   "execution_count": 46,
   "id": "7c466d16",
   "metadata": {},
   "outputs": [
    {
     "name": "stdout",
     "output_type": "stream",
     "text": [
      "Enter the String:racecar\n",
      "Yes\n"
     ]
    }
   ],
   "source": [
    "def isPalindrom(string):\n",
    "    string1=string[::-1]\n",
    "    \n",
    "    if string1==string:\n",
    "        print(\"Yes\")\n",
    "    else:\n",
    "        print(\"No\")\n",
    "\n",
    "s=input(\"Enter the String:\")\n",
    "isPalindrom(s)"
   ]
  },
  {
   "cell_type": "markdown",
   "id": "68672cd0",
   "metadata": {},
   "source": [
    "# 4.To get the Third side of the Right-Angled Triangle:"
   ]
  },
  {
   "cell_type": "code",
   "execution_count": 62,
   "id": "663b5ab9",
   "metadata": {},
   "outputs": [
    {
     "name": "stdout",
     "output_type": "stream",
     "text": [
      "Enter the First Side Value:3\n",
      "Enter the Second Side Value4\n"
     ]
    },
    {
     "data": {
      "text/plain": [
       "{'5.0'}"
      ]
     },
     "execution_count": 62,
     "metadata": {},
     "output_type": "execute_result"
    }
   ],
   "source": [
    "import math\n",
    "def rightangle(a,b):\n",
    "    one=a*a\n",
    "    two=b*b\n",
    "    three=(one+two)**0.5\n",
    "    return{f\"{three}\"}\n",
    "first=int(input(\"Enter the First Side Value:\"))\n",
    "second=int(input(\"Enter the Second Side Value\"))\n",
    "rightangle(first,second)"
   ]
  },
  {
   "cell_type": "markdown",
   "id": "42b04cfc",
   "metadata": {},
   "source": [
    "# 5.Frequency of each character in String"
   ]
  },
  {
   "cell_type": "code",
   "execution_count": 65,
   "id": "0839d796",
   "metadata": {},
   "outputs": [
    {
     "name": "stdout",
     "output_type": "stream",
     "text": [
      "Enter a Word:abinayaprasad\n",
      "Frequencey of all the characters in abinayaprasad \n",
      "{'a': 5, 'b': 1, 'i': 1, 'n': 1, 'y': 1, 'p': 1, 'r': 1, 's': 1, 'd': 1}\n"
     ]
    }
   ],
   "source": [
    "def FrequencyString(string):\n",
    "    result={}\n",
    "    for keys in string:\n",
    "        result[keys]=result.get(keys,0)+1\n",
    "    print(f\"Frequencey of all the characters in {string} \\n\" +str(result))\n",
    "\n",
    "test_st=input(\"Enter a Word:\")\n",
    "FrequencyString(test_st)"
   ]
  },
  {
   "cell_type": "code",
   "execution_count": null,
   "id": "5cf3c873",
   "metadata": {},
   "outputs": [],
   "source": []
  }
 ],
 "metadata": {
  "kernelspec": {
   "display_name": "Python 3",
   "language": "python",
   "name": "python3"
  },
  "language_info": {
   "codemirror_mode": {
    "name": "ipython",
    "version": 3
   },
   "file_extension": ".py",
   "mimetype": "text/x-python",
   "name": "python",
   "nbconvert_exporter": "python",
   "pygments_lexer": "ipython3",
   "version": "3.8.8"
  }
 },
 "nbformat": 4,
 "nbformat_minor": 5
}
