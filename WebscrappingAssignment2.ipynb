{
 "cells": [
  {
   "cell_type": "markdown",
   "id": "77eadc77",
   "metadata": {},
   "source": [
    "### 1. Python program to scrape data for “Data Analyst” Job position in “Bangalore” location. Youhave to scrape the job-title, job-location, company_name, experience_required. You have to scrape first 10 jobs data."
   ]
  },
  {
   "cell_type": "code",
   "execution_count": 1,
   "id": "b503a0bd",
   "metadata": {
    "scrolled": true
   },
   "outputs": [
    {
     "name": "stdout",
     "output_type": "stream",
     "text": [
      "Requirement already satisfied: selenium in c:\\users\\abinaya\\anaconda3\\lib\\site-packages (4.1.2)\n",
      "Requirement already satisfied: trio-websocket~=0.9 in c:\\users\\abinaya\\anaconda3\\lib\\site-packages (from selenium) (0.9.2)\n",
      "Requirement already satisfied: trio~=0.17 in c:\\users\\abinaya\\anaconda3\\lib\\site-packages (from selenium) (0.20.0)\n",
      "Requirement already satisfied: urllib3[secure,socks]~=1.26 in c:\\users\\abinaya\\anaconda3\\lib\\site-packages (from selenium) (1.26.4)\n",
      "Requirement already satisfied: idna in c:\\users\\abinaya\\anaconda3\\lib\\site-packages (from trio~=0.17->selenium) (2.10)\n",
      "Requirement already satisfied: outcome in c:\\users\\abinaya\\anaconda3\\lib\\site-packages (from trio~=0.17->selenium) (1.1.0)\n",
      "Requirement already satisfied: cffi>=1.14 in c:\\users\\abinaya\\anaconda3\\lib\\site-packages (from trio~=0.17->selenium) (1.14.5)\n",
      "Requirement already satisfied: sniffio in c:\\users\\abinaya\\anaconda3\\lib\\site-packages (from trio~=0.17->selenium) (1.2.0)\n",
      "Requirement already satisfied: sortedcontainers in c:\\users\\abinaya\\anaconda3\\lib\\site-packages (from trio~=0.17->selenium) (2.3.0)\n",
      "Requirement already satisfied: attrs>=19.2.0 in c:\\users\\abinaya\\anaconda3\\lib\\site-packages (from trio~=0.17->selenium) (20.3.0)\n",
      "Requirement already satisfied: async-generator>=1.9 in c:\\users\\abinaya\\anaconda3\\lib\\site-packages (from trio~=0.17->selenium) (1.10)\n",
      "Requirement already satisfied: pycparser in c:\\users\\abinaya\\anaconda3\\lib\\site-packages (from cffi>=1.14->trio~=0.17->selenium) (2.20)\n",
      "Requirement already satisfied: wsproto>=0.14 in c:\\users\\abinaya\\anaconda3\\lib\\site-packages (from trio-websocket~=0.9->selenium) (1.1.0)\n",
      "Requirement already satisfied: PySocks!=1.5.7,<2.0,>=1.5.6 in c:\\users\\abinaya\\anaconda3\\lib\\site-packages (from urllib3[secure,socks]~=1.26->selenium) (1.7.1)\n",
      "Requirement already satisfied: pyOpenSSL>=0.14 in c:\\users\\abinaya\\anaconda3\\lib\\site-packages (from urllib3[secure,socks]~=1.26->selenium) (20.0.1)\n",
      "Requirement already satisfied: cryptography>=1.3.4 in c:\\users\\abinaya\\anaconda3\\lib\\site-packages (from urllib3[secure,socks]~=1.26->selenium) (3.4.7)\n",
      "Requirement already satisfied: certifi in c:\\users\\abinaya\\anaconda3\\lib\\site-packages (from urllib3[secure,socks]~=1.26->selenium) (2020.12.5)\n",
      "Requirement already satisfied: six>=1.5.2 in c:\\users\\abinaya\\anaconda3\\lib\\site-packages (from pyOpenSSL>=0.14->urllib3[secure,socks]~=1.26->selenium) (1.15.0)\n",
      "Requirement already satisfied: h11<1,>=0.9.0 in c:\\users\\abinaya\\anaconda3\\lib\\site-packages (from wsproto>=0.14->trio-websocket~=0.9->selenium) (0.13.0)\n"
     ]
    }
   ],
   "source": [
    "!pip install selenium"
   ]
  },
  {
   "cell_type": "code",
   "execution_count": 1,
   "id": "4caa75e2",
   "metadata": {},
   "outputs": [],
   "source": [
    "#importing all the liberaries:\n",
    "import selenium\n",
    "from selenium import webdriver\n",
    "import pandas as pd\n",
    "import warnings \n",
    "warnings.filterwarnings(\"ignore\")"
   ]
  },
  {
   "cell_type": "code",
   "execution_count": 27,
   "id": "e613e42b",
   "metadata": {
    "scrolled": true
   },
   "outputs": [],
   "source": [
    "driver=webdriver.Chrome(\"E:/chromedriver.exe\")"
   ]
  },
  {
   "cell_type": "code",
   "execution_count": 28,
   "id": "1945e4c0",
   "metadata": {},
   "outputs": [],
   "source": [
    "url='https://www.naukri.com/'\n",
    "driver.get(url)"
   ]
  },
  {
   "cell_type": "code",
   "execution_count": 29,
   "id": "cc5710f1",
   "metadata": {},
   "outputs": [
    {
     "data": {
      "text/plain": [
       "<selenium.webdriver.remote.webelement.WebElement (session=\"e0216595e9e6868fb20b4a6bfeff7ddf\", element=\"3e389412-a61e-4f7b-907a-5149c304ff3a\")>"
      ]
     },
     "execution_count": 29,
     "metadata": {},
     "output_type": "execute_result"
    }
   ],
   "source": [
    "# finding the web elements for search job bar using id:\n",
    "search_job=driver.find_element_by_class_name(\"suggestor-input\")\n",
    "search_job"
   ]
  },
  {
   "cell_type": "code",
   "execution_count": 30,
   "id": "4b807d84",
   "metadata": {},
   "outputs": [],
   "source": [
    "#Write the WebElement:\n",
    "search_job.send_keys(\"Data Scientist\")\n"
   ]
  },
  {
   "cell_type": "code",
   "execution_count": 31,
   "id": "6334e48c",
   "metadata": {},
   "outputs": [
    {
     "data": {
      "text/plain": [
       "<selenium.webdriver.remote.webelement.WebElement (session=\"e0216595e9e6868fb20b4a6bfeff7ddf\", element=\"1c36a64a-cf2e-42d3-a08b-f4634a49e720\")>"
      ]
     },
     "execution_count": 31,
     "metadata": {},
     "output_type": "execute_result"
    }
   ],
   "source": [
    "#Find the Location by absolute xpath::\n",
    "search_loc=driver.find_element_by_xpath('/html/body/div/div[2]/div[3]/div/div/div[3]/div/div/div/input')\n",
    "search_loc"
   ]
  },
  {
   "cell_type": "code",
   "execution_count": 32,
   "id": "d214dc2d",
   "metadata": {},
   "outputs": [],
   "source": [
    "# Finding Web element for job loaction bar:\n",
    "search_loc.send_keys(\"Bangalore\")"
   ]
  },
  {
   "cell_type": "code",
   "execution_count": 33,
   "id": "bb2d6996",
   "metadata": {},
   "outputs": [
    {
     "data": {
      "text/plain": [
       "<selenium.webdriver.remote.webelement.WebElement (session=\"e0216595e9e6868fb20b4a6bfeff7ddf\", element=\"baac4a5d-3d71-4eea-ad1a-d33dd7b854f8\")>"
      ]
     },
     "execution_count": 33,
     "metadata": {},
     "output_type": "execute_result"
    }
   ],
   "source": [
    "# Search botton extracting by xPath:\n",
    "search_booton=driver.find_element_by_xpath('/html/body/div/div[2]/div[3]/div/div/div[6]')\n",
    "search_booton"
   ]
  },
  {
   "cell_type": "code",
   "execution_count": 34,
   "id": "22f9ae68",
   "metadata": {},
   "outputs": [],
   "source": [
    "search_booton.click()"
   ]
  },
  {
   "cell_type": "code",
   "execution_count": 11,
   "id": "5894b7f4",
   "metadata": {},
   "outputs": [
    {
     "data": {
      "text/plain": [
       "'salary_check'"
      ]
     },
     "execution_count": 11,
     "metadata": {},
     "output_type": "execute_result"
    }
   ],
   "source": [
    "# Salary Check box:\n",
    "\"salary_check=driver.find_element_by_xpath('/html/body/div[1]/div[3]/div[2]/section[1]/div[2]/div[1]/div[2]/div[4]/label/i')\"\n",
    "\"salary_check\""
   ]
  },
  {
   "cell_type": "code",
   "execution_count": 12,
   "id": "73bacd91",
   "metadata": {},
   "outputs": [
    {
     "data": {
      "text/plain": [
       "'salary_check.click()'"
      ]
     },
     "execution_count": 12,
     "metadata": {},
     "output_type": "execute_result"
    }
   ],
   "source": [
    "\"salary_check.click()\""
   ]
  },
  {
   "cell_type": "code",
   "execution_count": 35,
   "id": "588c16b0",
   "metadata": {},
   "outputs": [
    {
     "data": {
      "text/plain": [
       "[<selenium.webdriver.remote.webelement.WebElement (session=\"e0216595e9e6868fb20b4a6bfeff7ddf\", element=\"d8f97efe-dbcd-42c0-a4ab-0878b170cfcc\")>,\n",
       " <selenium.webdriver.remote.webelement.WebElement (session=\"e0216595e9e6868fb20b4a6bfeff7ddf\", element=\"8bad1c59-383f-43aa-8249-f507b5889d4a\")>]"
      ]
     },
     "execution_count": 35,
     "metadata": {},
     "output_type": "execute_result"
    }
   ],
   "source": [
    "#Extracting Company names:\n",
    "title_tags = driver.find_elements_by_xpath('//a[@class=\"title fw500 ellipsis\"]')\n",
    "len(title_tags)\n",
    "title_tags[0:2]"
   ]
  },
  {
   "cell_type": "code",
   "execution_count": 36,
   "id": "ff93c3e7",
   "metadata": {},
   "outputs": [
    {
     "data": {
      "text/plain": [
       "['Data Scientist',\n",
       " 'Data Scientist',\n",
       " 'Senior/ Lead Data Scientist',\n",
       " 'Data Scientist / Analyst',\n",
       " 'Forecasting Analyst/ Data Scientist (US Client)',\n",
       " 'Excellent Opportunity For Freshers For AI/ML, Data Scientist, BI, QA',\n",
       " 'Junior Data Scientist',\n",
       " 'Data Scientist',\n",
       " 'Data Scientist',\n",
       " 'Data Scientist',\n",
       " 'Data Scientist',\n",
       " 'Senior Data Scientist',\n",
       " 'Senior Data Scientist',\n",
       " 'Senior Data Scientist',\n",
       " 'Sr. Data Scientist, Digital Services Analytics',\n",
       " 'HCL Tech Opening - Senior Data Scientist',\n",
       " 'Cognitive/AI Senior Data Scientist',\n",
       " 'Sr. Product Data Scientist',\n",
       " 'Data Scientist II- Merchandise & Discovery',\n",
       " 'Virtusa Hiring DATA Scientist- PAN India']"
      ]
     },
     "execution_count": 36,
     "metadata": {},
     "output_type": "execute_result"
    }
   ],
   "source": [
    "job_title=[]\n",
    "for i in title_tags:\n",
    "    job_title.append(i.text)\n",
    "len(job_title)\n",
    "job_title"
   ]
  },
  {
   "cell_type": "code",
   "execution_count": 37,
   "id": "c6982651",
   "metadata": {},
   "outputs": [
    {
     "data": {
      "text/plain": [
       "[<selenium.webdriver.remote.webelement.WebElement (session=\"e0216595e9e6868fb20b4a6bfeff7ddf\", element=\"2ffbaf8d-1688-4e0b-aa1e-97f1a0d378dd\")>,\n",
       " <selenium.webdriver.remote.webelement.WebElement (session=\"e0216595e9e6868fb20b4a6bfeff7ddf\", element=\"6763f41c-3290-4624-ab8e-551835423912\")>]"
      ]
     },
     "execution_count": 37,
     "metadata": {},
     "output_type": "execute_result"
    }
   ],
   "source": [
    "#Extracting Company names:\n",
    "Company_tags=driver.find_elements_by_xpath('//a[@class=\"subTitle ellipsis fleft\"]')\n",
    "len(Company_tags)\n",
    "Company_tags[0:2]"
   ]
  },
  {
   "cell_type": "code",
   "execution_count": 38,
   "id": "adbfaf16",
   "metadata": {},
   "outputs": [
    {
     "data": {
      "text/plain": [
       "['HDFC Bank', 'Shell']"
      ]
     },
     "execution_count": 38,
     "metadata": {},
     "output_type": "execute_result"
    }
   ],
   "source": [
    "company_name=[]\n",
    "for i in Company_tags:\n",
    "    company_name.append(i.text)\n",
    "len(company_name)\n",
    "company_name[0:2]"
   ]
  },
  {
   "cell_type": "code",
   "execution_count": 39,
   "id": "b914e59b",
   "metadata": {},
   "outputs": [
    {
     "data": {
      "text/plain": [
       "[<selenium.webdriver.remote.webelement.WebElement (session=\"e0216595e9e6868fb20b4a6bfeff7ddf\", element=\"74efde50-201b-4a93-8839-4c154560ace6\")>,\n",
       " <selenium.webdriver.remote.webelement.WebElement (session=\"e0216595e9e6868fb20b4a6bfeff7ddf\", element=\"f4791058-b972-49d5-8ccf-56b8121ed6ab\")>]"
      ]
     },
     "execution_count": 39,
     "metadata": {},
     "output_type": "execute_result"
    }
   ],
   "source": [
    "# Extracting Location:\n",
    "\n",
    "Location_tag=driver.find_elements_by_xpath('//li[@class=\"fleft grey-text br2 placeHolderLi location\"]')\n",
    "len(Location_tag)\n",
    "Location_tag[0:2]"
   ]
  },
  {
   "cell_type": "code",
   "execution_count": 40,
   "id": "0c6369ef",
   "metadata": {},
   "outputs": [
    {
     "data": {
      "text/plain": [
       "['Pune, Gurgaon/Gurugram, Chennai, Bangalore/Bengaluru, Delhi / NCR, Mumbai (All Areas)',\n",
       " 'Bangalore/Bengaluru',\n",
       " 'Bangalore/Bengaluru',\n",
       " 'Bangalore/Bengaluru',\n",
       " 'Gurgaon/Gurugram, Bangalore/Bengaluru\\n(WFH during Covid)',\n",
       " 'Noida, Kolkata, Hyderabad/Secunderabad, Pune, Chennai, Bangalore/Bengaluru, Delhi / NCR, Mumbai (All Areas)\\n(WFH during Covid)',\n",
       " 'Bangalore/Bengaluru',\n",
       " 'Hyderabad/Secunderabad, Pune, Bangalore/Bengaluru',\n",
       " 'Bangalore/Bengaluru',\n",
       " 'Bangalore/Bengaluru',\n",
       " 'Mumbai, Bangalore/Bengaluru',\n",
       " 'Bangalore/Bengaluru',\n",
       " 'Bangalore/Bengaluru',\n",
       " 'Noida, Pune, Bangalore/Bengaluru',\n",
       " 'Bangalore/Bengaluru',\n",
       " 'Noida, Kolkata, Hyderabad/Secunderabad, Pune, Chennai, Bangalore/Bengaluru',\n",
       " 'Bangalore/Bengaluru',\n",
       " 'Bangalore/Bengaluru',\n",
       " 'Bangalore/Bengaluru',\n",
       " 'Hyderabad/Secunderabad, Pune, Gurgaon/Gurugram, Chennai, Bangalore/Bengaluru, Mumbai (All Areas)\\n(WFH during Covid)']"
      ]
     },
     "execution_count": 40,
     "metadata": {},
     "output_type": "execute_result"
    }
   ],
   "source": [
    "Location_name=[]\n",
    "for i in Location_tag:\n",
    "    Location_name.append(i.text)\n",
    "len(Location_name)\n",
    "Location_name"
   ]
  },
  {
   "cell_type": "code",
   "execution_count": 41,
   "id": "4b8de2d1",
   "metadata": {},
   "outputs": [
    {
     "data": {
      "text/plain": [
       "[<selenium.webdriver.remote.webelement.WebElement (session=\"e0216595e9e6868fb20b4a6bfeff7ddf\", element=\"e9794186-0a9c-4a37-a6f1-bf545787800d\")>,\n",
       " <selenium.webdriver.remote.webelement.WebElement (session=\"e0216595e9e6868fb20b4a6bfeff7ddf\", element=\"bdbddcde-9252-48aa-be01-2d62970bf9aa\")>]"
      ]
     },
     "execution_count": 41,
     "metadata": {},
     "output_type": "execute_result"
    }
   ],
   "source": [
    "# Extracting experience:\n",
    "Exp_tag=driver.find_elements_by_xpath('//li[@class=\"fleft grey-text br2 placeHolderLi experience\"]')\n",
    "len(Exp_tag)\n",
    "Exp_tag[0:2]"
   ]
  },
  {
   "cell_type": "code",
   "execution_count": 42,
   "id": "15a7f5db",
   "metadata": {},
   "outputs": [
    {
     "data": {
      "text/plain": [
       "['1-6 Yrs',\n",
       " '4-9 Yrs',\n",
       " '5-10 Yrs',\n",
       " '4-9 Yrs',\n",
       " '3-8 Yrs',\n",
       " '0-0 Yrs',\n",
       " '1-5 Yrs',\n",
       " '7-12 Yrs',\n",
       " '7-10 Yrs',\n",
       " '4-9 Yrs',\n",
       " '6-11 Yrs',\n",
       " '5-10 Yrs',\n",
       " '9-12 Yrs',\n",
       " '3-6 Yrs',\n",
       " '6-11 Yrs',\n",
       " '6-11 Yrs',\n",
       " '4-8 Yrs',\n",
       " '2-7 Yrs',\n",
       " '2-5 Yrs',\n",
       " '5-9 Yrs']"
      ]
     },
     "execution_count": 42,
     "metadata": {},
     "output_type": "execute_result"
    }
   ],
   "source": [
    "Exp_name=[]\n",
    "for i in Exp_tag:\n",
    "    Exp_name.append(i.text)\n",
    "len(Exp_name)\n",
    "Exp_name"
   ]
  },
  {
   "cell_type": "code",
   "execution_count": 43,
   "id": "c637c48b",
   "metadata": {},
   "outputs": [
    {
     "data": {
      "text/plain": [
       "(20, 20, 20, 20)"
      ]
     },
     "execution_count": 43,
     "metadata": {},
     "output_type": "execute_result"
    }
   ],
   "source": [
    "len(job_title),len(company_name),len(Location_name),len(Exp_name)"
   ]
  },
  {
   "cell_type": "code",
   "execution_count": 44,
   "id": "ba1c2759",
   "metadata": {},
   "outputs": [],
   "source": [
    "#DataFrame:\n",
    "Jobs=pd.DataFrame({'Job_Title':job_title,\"Company_Name\":company_name,\"Location\":Location_name,\"Experience\":Exp_name})"
   ]
  },
  {
   "cell_type": "code",
   "execution_count": 45,
   "id": "026bcad2",
   "metadata": {},
   "outputs": [],
   "source": [
    "Top_10Jobs=Jobs[0:11]"
   ]
  },
  {
   "cell_type": "code",
   "execution_count": 46,
   "id": "695086f7",
   "metadata": {},
   "outputs": [
    {
     "data": {
      "text/html": [
       "<div>\n",
       "<style scoped>\n",
       "    .dataframe tbody tr th:only-of-type {\n",
       "        vertical-align: middle;\n",
       "    }\n",
       "\n",
       "    .dataframe tbody tr th {\n",
       "        vertical-align: top;\n",
       "    }\n",
       "\n",
       "    .dataframe thead th {\n",
       "        text-align: right;\n",
       "    }\n",
       "</style>\n",
       "<table border=\"1\" class=\"dataframe\">\n",
       "  <thead>\n",
       "    <tr style=\"text-align: right;\">\n",
       "      <th></th>\n",
       "      <th>Job_Title</th>\n",
       "      <th>Company_Name</th>\n",
       "      <th>Location</th>\n",
       "      <th>Experience</th>\n",
       "    </tr>\n",
       "  </thead>\n",
       "  <tbody>\n",
       "    <tr>\n",
       "      <th>0</th>\n",
       "      <td>Data Scientist</td>\n",
       "      <td>HDFC Bank</td>\n",
       "      <td>Pune, Gurgaon/Gurugram, Chennai, Bangalore/Ben...</td>\n",
       "      <td>1-6 Yrs</td>\n",
       "    </tr>\n",
       "    <tr>\n",
       "      <th>1</th>\n",
       "      <td>Data Scientist</td>\n",
       "      <td>Shell</td>\n",
       "      <td>Bangalore/Bengaluru</td>\n",
       "      <td>4-9 Yrs</td>\n",
       "    </tr>\n",
       "    <tr>\n",
       "      <th>2</th>\n",
       "      <td>Senior/ Lead Data Scientist</td>\n",
       "      <td>AmoliTalents</td>\n",
       "      <td>Bangalore/Bengaluru</td>\n",
       "      <td>5-10 Yrs</td>\n",
       "    </tr>\n",
       "    <tr>\n",
       "      <th>3</th>\n",
       "      <td>Data Scientist / Analyst</td>\n",
       "      <td>open data fabric</td>\n",
       "      <td>Bangalore/Bengaluru</td>\n",
       "      <td>4-9 Yrs</td>\n",
       "    </tr>\n",
       "    <tr>\n",
       "      <th>4</th>\n",
       "      <td>Forecasting Analyst/ Data Scientist (US Client)</td>\n",
       "      <td>Concentrix</td>\n",
       "      <td>Gurgaon/Gurugram, Bangalore/Bengaluru\\n(WFH du...</td>\n",
       "      <td>3-8 Yrs</td>\n",
       "    </tr>\n",
       "    <tr>\n",
       "      <th>5</th>\n",
       "      <td>Excellent Opportunity For Freshers For AI/ML, ...</td>\n",
       "      <td>NTT Data</td>\n",
       "      <td>Noida, Kolkata, Hyderabad/Secunderabad, Pune, ...</td>\n",
       "      <td>0-0 Yrs</td>\n",
       "    </tr>\n",
       "    <tr>\n",
       "      <th>6</th>\n",
       "      <td>Junior Data Scientist</td>\n",
       "      <td>Titan</td>\n",
       "      <td>Bangalore/Bengaluru</td>\n",
       "      <td>1-5 Yrs</td>\n",
       "    </tr>\n",
       "    <tr>\n",
       "      <th>7</th>\n",
       "      <td>Data Scientist</td>\n",
       "      <td>Amazon</td>\n",
       "      <td>Hyderabad/Secunderabad, Pune, Bangalore/Bengaluru</td>\n",
       "      <td>7-12 Yrs</td>\n",
       "    </tr>\n",
       "    <tr>\n",
       "      <th>8</th>\n",
       "      <td>Data Scientist</td>\n",
       "      <td>Hewlett-Packard (HP)</td>\n",
       "      <td>Bangalore/Bengaluru</td>\n",
       "      <td>7-10 Yrs</td>\n",
       "    </tr>\n",
       "    <tr>\n",
       "      <th>9</th>\n",
       "      <td>Data Scientist</td>\n",
       "      <td>Shell</td>\n",
       "      <td>Bangalore/Bengaluru</td>\n",
       "      <td>4-9 Yrs</td>\n",
       "    </tr>\n",
       "    <tr>\n",
       "      <th>10</th>\n",
       "      <td>Data Scientist</td>\n",
       "      <td>Master Mind Consultancy</td>\n",
       "      <td>Mumbai, Bangalore/Bengaluru</td>\n",
       "      <td>6-11 Yrs</td>\n",
       "    </tr>\n",
       "  </tbody>\n",
       "</table>\n",
       "</div>"
      ],
      "text/plain": [
       "                                            Job_Title  \\\n",
       "0                                      Data Scientist   \n",
       "1                                      Data Scientist   \n",
       "2                         Senior/ Lead Data Scientist   \n",
       "3                            Data Scientist / Analyst   \n",
       "4     Forecasting Analyst/ Data Scientist (US Client)   \n",
       "5   Excellent Opportunity For Freshers For AI/ML, ...   \n",
       "6                               Junior Data Scientist   \n",
       "7                                      Data Scientist   \n",
       "8                                      Data Scientist   \n",
       "9                                      Data Scientist   \n",
       "10                                     Data Scientist   \n",
       "\n",
       "               Company_Name  \\\n",
       "0                 HDFC Bank   \n",
       "1                     Shell   \n",
       "2              AmoliTalents   \n",
       "3          open data fabric   \n",
       "4                Concentrix   \n",
       "5                  NTT Data   \n",
       "6                     Titan   \n",
       "7                    Amazon   \n",
       "8      Hewlett-Packard (HP)   \n",
       "9                     Shell   \n",
       "10  Master Mind Consultancy   \n",
       "\n",
       "                                             Location Experience  \n",
       "0   Pune, Gurgaon/Gurugram, Chennai, Bangalore/Ben...    1-6 Yrs  \n",
       "1                                 Bangalore/Bengaluru    4-9 Yrs  \n",
       "2                                 Bangalore/Bengaluru   5-10 Yrs  \n",
       "3                                 Bangalore/Bengaluru    4-9 Yrs  \n",
       "4   Gurgaon/Gurugram, Bangalore/Bengaluru\\n(WFH du...    3-8 Yrs  \n",
       "5   Noida, Kolkata, Hyderabad/Secunderabad, Pune, ...    0-0 Yrs  \n",
       "6                                 Bangalore/Bengaluru    1-5 Yrs  \n",
       "7   Hyderabad/Secunderabad, Pune, Bangalore/Bengaluru   7-12 Yrs  \n",
       "8                                 Bangalore/Bengaluru   7-10 Yrs  \n",
       "9                                 Bangalore/Bengaluru    4-9 Yrs  \n",
       "10                        Mumbai, Bangalore/Bengaluru   6-11 Yrs  "
      ]
     },
     "execution_count": 46,
     "metadata": {},
     "output_type": "execute_result"
    }
   ],
   "source": [
    "Top_10Jobs"
   ]
  },
  {
   "cell_type": "markdown",
   "id": "62f77984",
   "metadata": {},
   "source": [
    "## 2.Python program to scrape data for “Data Scientist” Job position in “Bangalore” location. You have to scrape the job-title, job-location, company_name. You have to scrape first 10 jobs data.This task will be done in following steps:"
   ]
  },
  {
   "cell_type": "code",
   "execution_count": 47,
   "id": "08a070c2",
   "metadata": {},
   "outputs": [],
   "source": [
    "driver=webdriver.Chrome(\"E:/chromedriver.exe\")"
   ]
  },
  {
   "cell_type": "code",
   "execution_count": 48,
   "id": "5645caf5",
   "metadata": {},
   "outputs": [],
   "source": [
    "url='https://www.naukri.com/'\n",
    "driver.get(url)"
   ]
  },
  {
   "cell_type": "code",
   "execution_count": 49,
   "id": "efeaeadf",
   "metadata": {},
   "outputs": [
    {
     "data": {
      "text/plain": [
       "<selenium.webdriver.remote.webelement.WebElement (session=\"aeaccee0cf21555922c3ab538f8d2136\", element=\"d16edf34-f90e-44ac-b9a1-fe675bbfb9be\")>"
      ]
     },
     "execution_count": 49,
     "metadata": {},
     "output_type": "execute_result"
    }
   ],
   "source": [
    "# finding the web elements for search job bar using id:\n",
    "search_job=driver.find_element_by_class_name(\"suggestor-input\")\n",
    "search_job"
   ]
  },
  {
   "cell_type": "code",
   "execution_count": 50,
   "id": "83031824",
   "metadata": {},
   "outputs": [],
   "source": [
    "#Write the WebElement:\n",
    "search_job.send_keys(\"Data Scientist\")\n"
   ]
  },
  {
   "cell_type": "code",
   "execution_count": 51,
   "id": "29241d53",
   "metadata": {},
   "outputs": [
    {
     "data": {
      "text/plain": [
       "<selenium.webdriver.remote.webelement.WebElement (session=\"aeaccee0cf21555922c3ab538f8d2136\", element=\"d8a31d50-1b9b-43fd-bd67-6ed2915c50a0\")>"
      ]
     },
     "execution_count": 51,
     "metadata": {},
     "output_type": "execute_result"
    }
   ],
   "source": [
    "#Find the Location by absolute xpath::\n",
    "search_loc=driver.find_element_by_xpath('/html/body/div/div[2]/div[3]/div/div/div[3]/div/div/div/input')\n",
    "search_loc"
   ]
  },
  {
   "cell_type": "code",
   "execution_count": 52,
   "id": "e30fc32b",
   "metadata": {},
   "outputs": [],
   "source": [
    "# Finding Web element for job loaction bar:\n",
    "search_loc.send_keys(\"Bangalore\")"
   ]
  },
  {
   "cell_type": "code",
   "execution_count": 53,
   "id": "b0a7e14a",
   "metadata": {},
   "outputs": [
    {
     "data": {
      "text/plain": [
       "<selenium.webdriver.remote.webelement.WebElement (session=\"aeaccee0cf21555922c3ab538f8d2136\", element=\"4f8fedc3-691c-42d6-846f-26e70fd2b700\")>"
      ]
     },
     "execution_count": 53,
     "metadata": {},
     "output_type": "execute_result"
    }
   ],
   "source": [
    "# Search botton extracting by xPath:\n",
    "search_booton=driver.find_element_by_xpath('/html/body/div/div[2]/div[3]/div/div/div[6]')\n",
    "search_booton"
   ]
  },
  {
   "cell_type": "code",
   "execution_count": 54,
   "id": "7a7748c8",
   "metadata": {},
   "outputs": [],
   "source": [
    "search_booton.click()"
   ]
  },
  {
   "cell_type": "code",
   "execution_count": 65,
   "id": "904e0720",
   "metadata": {},
   "outputs": [
    {
     "data": {
      "text/plain": [
       "[<selenium.webdriver.remote.webelement.WebElement (session=\"aeaccee0cf21555922c3ab538f8d2136\", element=\"6710b915-f68d-4a0a-8180-ae7dd8255c17\")>,\n",
       " <selenium.webdriver.remote.webelement.WebElement (session=\"aeaccee0cf21555922c3ab538f8d2136\", element=\"799400e3-2984-4567-b07f-fbcba42ae542\")>]"
      ]
     },
     "execution_count": 65,
     "metadata": {},
     "output_type": "execute_result"
    }
   ],
   "source": [
    "#Extracting Company names:\n",
    "title_tags1 = driver.find_elements_by_xpath('//a[@class=\"title fw500 ellipsis\"]')\n",
    "len(title_tags1)\n",
    "title_tags1[0:2]"
   ]
  },
  {
   "cell_type": "code",
   "execution_count": 66,
   "id": "73e62153",
   "metadata": {},
   "outputs": [
    {
     "data": {
      "text/plain": [
       "['Data Scientist',\n",
       " 'Data Scientist',\n",
       " 'Senior/ Lead Data Scientist',\n",
       " 'Data Scientist / Analyst',\n",
       " 'Forecasting Analyst/ Data Scientist (US Client)',\n",
       " 'Excellent Opportunity For Freshers For AI/ML, Data Scientist, BI, QA',\n",
       " 'Junior Data Scientist',\n",
       " 'Data Scientist',\n",
       " 'Data Scientist',\n",
       " 'Data Scientist',\n",
       " 'Data Scientist',\n",
       " 'Senior Data Scientist',\n",
       " 'Senior Data Scientist',\n",
       " 'Senior Data Scientist',\n",
       " 'Sr. Data Scientist, Digital Services Analytics',\n",
       " 'HCL Tech Opening - Senior Data Scientist',\n",
       " 'Cognitive/AI Senior Data Scientist',\n",
       " 'Sr. Product Data Scientist',\n",
       " 'Data Scientist II- Merchandise & Discovery',\n",
       " 'Virtusa Hiring DATA Scientist- PAN India']"
      ]
     },
     "execution_count": 66,
     "metadata": {},
     "output_type": "execute_result"
    }
   ],
   "source": [
    "job_title1=[]\n",
    "for i in title_tags1:\n",
    "    job_title1.append(i.text)\n",
    "len(job_title1)\n",
    "job_title1"
   ]
  },
  {
   "cell_type": "code",
   "execution_count": 63,
   "id": "feb1fd0a",
   "metadata": {},
   "outputs": [
    {
     "data": {
      "text/plain": [
       "[<selenium.webdriver.remote.webelement.WebElement (session=\"aeaccee0cf21555922c3ab538f8d2136\", element=\"a0a96fd5-2d6b-4561-961d-cc467288c1d5\")>,\n",
       " <selenium.webdriver.remote.webelement.WebElement (session=\"aeaccee0cf21555922c3ab538f8d2136\", element=\"12d610a2-bd4c-4bd3-aa1f-5e9d3f91009c\")>]"
      ]
     },
     "execution_count": 63,
     "metadata": {},
     "output_type": "execute_result"
    }
   ],
   "source": [
    "#Extracting Company names:\n",
    "Company_tags1=driver.find_elements_by_xpath('//a[@class=\"subTitle ellipsis fleft\"]')\n",
    "len(Company_tags1)\n",
    "Company_tags1[0:2]"
   ]
  },
  {
   "cell_type": "code",
   "execution_count": 64,
   "id": "facd1d82",
   "metadata": {},
   "outputs": [
    {
     "data": {
      "text/plain": [
       "['HDFC Bank', 'Shell']"
      ]
     },
     "execution_count": 64,
     "metadata": {},
     "output_type": "execute_result"
    }
   ],
   "source": [
    "company_name1=[]\n",
    "for i in Company_tags1:\n",
    "    company_name1.append(i.text)\n",
    "len(company_name1)\n",
    "company_name1[0:2]"
   ]
  },
  {
   "cell_type": "code",
   "execution_count": 67,
   "id": "a486be29",
   "metadata": {},
   "outputs": [
    {
     "data": {
      "text/plain": [
       "[<selenium.webdriver.remote.webelement.WebElement (session=\"aeaccee0cf21555922c3ab538f8d2136\", element=\"4ea02860-1517-404e-be20-7386c10a2e75\")>,\n",
       " <selenium.webdriver.remote.webelement.WebElement (session=\"aeaccee0cf21555922c3ab538f8d2136\", element=\"162b24eb-1347-4b8a-8552-a6b57f7e2acc\")>]"
      ]
     },
     "execution_count": 67,
     "metadata": {},
     "output_type": "execute_result"
    }
   ],
   "source": [
    "# Extracting Location:\n",
    "\n",
    "Location_tag1=driver.find_elements_by_xpath('//li[@class=\"fleft grey-text br2 placeHolderLi location\"]')\n",
    "len(Location_tag1)\n",
    "Location_tag1[0:2]"
   ]
  },
  {
   "cell_type": "code",
   "execution_count": 68,
   "id": "2b1241a1",
   "metadata": {},
   "outputs": [
    {
     "data": {
      "text/plain": [
       "['Pune, Gurgaon/Gurugram, Chennai, Bangalore/Bengaluru, Delhi / NCR, Mumbai (All Areas)',\n",
       " 'Bangalore/Bengaluru',\n",
       " 'Bangalore/Bengaluru',\n",
       " 'Bangalore/Bengaluru',\n",
       " 'Gurgaon/Gurugram, Bangalore/Bengaluru\\n(WFH during Covid)',\n",
       " 'Noida, Kolkata, Hyderabad/Secunderabad, Pune, Chennai, Bangalore/Bengaluru, Delhi / NCR, Mumbai (All Areas)\\n(WFH during Covid)',\n",
       " 'Bangalore/Bengaluru',\n",
       " 'Hyderabad/Secunderabad, Pune, Bangalore/Bengaluru',\n",
       " 'Bangalore/Bengaluru',\n",
       " 'Bangalore/Bengaluru',\n",
       " 'Mumbai, Bangalore/Bengaluru',\n",
       " 'Bangalore/Bengaluru',\n",
       " 'Bangalore/Bengaluru',\n",
       " 'Noida, Pune, Bangalore/Bengaluru',\n",
       " 'Bangalore/Bengaluru',\n",
       " 'Noida, Kolkata, Hyderabad/Secunderabad, Pune, Chennai, Bangalore/Bengaluru',\n",
       " 'Bangalore/Bengaluru',\n",
       " 'Bangalore/Bengaluru',\n",
       " 'Bangalore/Bengaluru',\n",
       " 'Hyderabad/Secunderabad, Pune, Gurgaon/Gurugram, Chennai, Bangalore/Bengaluru, Mumbai (All Areas)\\n(WFH during Covid)']"
      ]
     },
     "execution_count": 68,
     "metadata": {},
     "output_type": "execute_result"
    }
   ],
   "source": [
    "Location_name1=[]\n",
    "for i in Location_tag1:\n",
    "    Location_name1.append(i.text)\n",
    "len(Location_name1)\n",
    "Location_name1"
   ]
  },
  {
   "cell_type": "code",
   "execution_count": 69,
   "id": "4dad175d",
   "metadata": {},
   "outputs": [
    {
     "data": {
      "text/plain": [
       "(20, 20, 20)"
      ]
     },
     "execution_count": 69,
     "metadata": {},
     "output_type": "execute_result"
    }
   ],
   "source": [
    "len(job_title1),len(company_name1),len(Location_name1)"
   ]
  },
  {
   "cell_type": "code",
   "execution_count": 70,
   "id": "a244d068",
   "metadata": {},
   "outputs": [],
   "source": [
    "#DataFrame:\n",
    "Job2=pd.DataFrame({\"Title\":job_title1,\"Company\":company_name1,\"Location\":Location_name1})"
   ]
  },
  {
   "cell_type": "code",
   "execution_count": 72,
   "id": "3357b0bd",
   "metadata": {},
   "outputs": [
    {
     "data": {
      "text/html": [
       "<div>\n",
       "<style scoped>\n",
       "    .dataframe tbody tr th:only-of-type {\n",
       "        vertical-align: middle;\n",
       "    }\n",
       "\n",
       "    .dataframe tbody tr th {\n",
       "        vertical-align: top;\n",
       "    }\n",
       "\n",
       "    .dataframe thead th {\n",
       "        text-align: right;\n",
       "    }\n",
       "</style>\n",
       "<table border=\"1\" class=\"dataframe\">\n",
       "  <thead>\n",
       "    <tr style=\"text-align: right;\">\n",
       "      <th></th>\n",
       "      <th>Title</th>\n",
       "      <th>Company</th>\n",
       "      <th>Location</th>\n",
       "    </tr>\n",
       "  </thead>\n",
       "  <tbody>\n",
       "    <tr>\n",
       "      <th>0</th>\n",
       "      <td>Data Scientist</td>\n",
       "      <td>HDFC Bank</td>\n",
       "      <td>Pune, Gurgaon/Gurugram, Chennai, Bangalore/Ben...</td>\n",
       "    </tr>\n",
       "    <tr>\n",
       "      <th>1</th>\n",
       "      <td>Data Scientist</td>\n",
       "      <td>Shell</td>\n",
       "      <td>Bangalore/Bengaluru</td>\n",
       "    </tr>\n",
       "    <tr>\n",
       "      <th>2</th>\n",
       "      <td>Senior/ Lead Data Scientist</td>\n",
       "      <td>AmoliTalents</td>\n",
       "      <td>Bangalore/Bengaluru</td>\n",
       "    </tr>\n",
       "    <tr>\n",
       "      <th>3</th>\n",
       "      <td>Data Scientist / Analyst</td>\n",
       "      <td>open data fabric</td>\n",
       "      <td>Bangalore/Bengaluru</td>\n",
       "    </tr>\n",
       "    <tr>\n",
       "      <th>4</th>\n",
       "      <td>Forecasting Analyst/ Data Scientist (US Client)</td>\n",
       "      <td>Concentrix</td>\n",
       "      <td>Gurgaon/Gurugram, Bangalore/Bengaluru\\n(WFH du...</td>\n",
       "    </tr>\n",
       "    <tr>\n",
       "      <th>5</th>\n",
       "      <td>Excellent Opportunity For Freshers For AI/ML, ...</td>\n",
       "      <td>NTT Data</td>\n",
       "      <td>Noida, Kolkata, Hyderabad/Secunderabad, Pune, ...</td>\n",
       "    </tr>\n",
       "    <tr>\n",
       "      <th>6</th>\n",
       "      <td>Junior Data Scientist</td>\n",
       "      <td>Titan</td>\n",
       "      <td>Bangalore/Bengaluru</td>\n",
       "    </tr>\n",
       "    <tr>\n",
       "      <th>7</th>\n",
       "      <td>Data Scientist</td>\n",
       "      <td>Amazon</td>\n",
       "      <td>Hyderabad/Secunderabad, Pune, Bangalore/Bengaluru</td>\n",
       "    </tr>\n",
       "    <tr>\n",
       "      <th>8</th>\n",
       "      <td>Data Scientist</td>\n",
       "      <td>Hewlett-Packard (HP)</td>\n",
       "      <td>Bangalore/Bengaluru</td>\n",
       "    </tr>\n",
       "    <tr>\n",
       "      <th>9</th>\n",
       "      <td>Data Scientist</td>\n",
       "      <td>Shell</td>\n",
       "      <td>Bangalore/Bengaluru</td>\n",
       "    </tr>\n",
       "    <tr>\n",
       "      <th>10</th>\n",
       "      <td>Data Scientist</td>\n",
       "      <td>Master Mind Consultancy</td>\n",
       "      <td>Mumbai, Bangalore/Bengaluru</td>\n",
       "    </tr>\n",
       "  </tbody>\n",
       "</table>\n",
       "</div>"
      ],
      "text/plain": [
       "                                                Title  \\\n",
       "0                                      Data Scientist   \n",
       "1                                      Data Scientist   \n",
       "2                         Senior/ Lead Data Scientist   \n",
       "3                            Data Scientist / Analyst   \n",
       "4     Forecasting Analyst/ Data Scientist (US Client)   \n",
       "5   Excellent Opportunity For Freshers For AI/ML, ...   \n",
       "6                               Junior Data Scientist   \n",
       "7                                      Data Scientist   \n",
       "8                                      Data Scientist   \n",
       "9                                      Data Scientist   \n",
       "10                                     Data Scientist   \n",
       "\n",
       "                    Company                                           Location  \n",
       "0                 HDFC Bank  Pune, Gurgaon/Gurugram, Chennai, Bangalore/Ben...  \n",
       "1                     Shell                                Bangalore/Bengaluru  \n",
       "2              AmoliTalents                                Bangalore/Bengaluru  \n",
       "3          open data fabric                                Bangalore/Bengaluru  \n",
       "4                Concentrix  Gurgaon/Gurugram, Bangalore/Bengaluru\\n(WFH du...  \n",
       "5                  NTT Data  Noida, Kolkata, Hyderabad/Secunderabad, Pune, ...  \n",
       "6                     Titan                                Bangalore/Bengaluru  \n",
       "7                    Amazon  Hyderabad/Secunderabad, Pune, Bangalore/Bengaluru  \n",
       "8      Hewlett-Packard (HP)                                Bangalore/Bengaluru  \n",
       "9                     Shell                                Bangalore/Bengaluru  \n",
       "10  Master Mind Consultancy                        Mumbai, Bangalore/Bengaluru  "
      ]
     },
     "execution_count": 72,
     "metadata": {},
     "output_type": "execute_result"
    }
   ],
   "source": [
    "Job2[0:11]"
   ]
  },
  {
   "cell_type": "markdown",
   "id": "7c9a94bb",
   "metadata": {},
   "source": [
    "## 3: In this question you have to scrape data using the filters available on the webpage as shown below:"
   ]
  },
  {
   "cell_type": "code",
   "execution_count": 74,
   "id": "b4bcab93",
   "metadata": {},
   "outputs": [],
   "source": [
    "driver=webdriver.Chrome(\"E:/chromedriver.exe\")"
   ]
  },
  {
   "cell_type": "code",
   "execution_count": 75,
   "id": "67629f90",
   "metadata": {},
   "outputs": [],
   "source": [
    "url='https://www.naukri.com/'\n",
    "driver.get(url)"
   ]
  },
  {
   "cell_type": "code",
   "execution_count": 76,
   "id": "2ef8c497",
   "metadata": {},
   "outputs": [
    {
     "data": {
      "text/plain": [
       "<selenium.webdriver.remote.webelement.WebElement (session=\"0e72a01cc48c2373012ad34d426cc5a1\", element=\"820af4e5-0cf7-4577-bf35-e17b628898d9\")>"
      ]
     },
     "execution_count": 76,
     "metadata": {},
     "output_type": "execute_result"
    }
   ],
   "source": [
    "# finding the web elements for search job bar using id:\n",
    "search_job=driver.find_element_by_class_name(\"suggestor-input\")\n",
    "search_job"
   ]
  },
  {
   "cell_type": "code",
   "execution_count": 77,
   "id": "1ff45ff3",
   "metadata": {},
   "outputs": [],
   "source": [
    "#Write the WebElement:\n",
    "search_job.send_keys(\"Data Scientist\")"
   ]
  },
  {
   "cell_type": "code",
   "execution_count": 78,
   "id": "b27b9a67",
   "metadata": {},
   "outputs": [
    {
     "data": {
      "text/plain": [
       "<selenium.webdriver.remote.webelement.WebElement (session=\"0e72a01cc48c2373012ad34d426cc5a1\", element=\"5ccc8b12-8ea1-4a09-90ba-db6639935ad4\")>"
      ]
     },
     "execution_count": 78,
     "metadata": {},
     "output_type": "execute_result"
    }
   ],
   "source": [
    "#Find the Location by absolute xpath::\n",
    "search_loc=driver.find_element_by_xpath('/html/body/div/div[2]/div[3]/div/div/div[3]/div/div/div/input')\n",
    "search_loc"
   ]
  },
  {
   "cell_type": "code",
   "execution_count": 79,
   "id": "1d62a658",
   "metadata": {},
   "outputs": [],
   "source": [
    "# Finding Web element for job loaction bar:\n",
    "search_loc.send_keys(\"Bangalore\")"
   ]
  },
  {
   "cell_type": "code",
   "execution_count": 80,
   "id": "44d8d3f2",
   "metadata": {},
   "outputs": [
    {
     "data": {
      "text/plain": [
       "<selenium.webdriver.remote.webelement.WebElement (session=\"0e72a01cc48c2373012ad34d426cc5a1\", element=\"8576123f-93ce-4cc8-be85-d76320eaba4e\")>"
      ]
     },
     "execution_count": 80,
     "metadata": {},
     "output_type": "execute_result"
    }
   ],
   "source": [
    "# Search botton extracting by xPath:\n",
    "search_booton=driver.find_element_by_xpath('/html/body/div/div[2]/div[3]/div/div/div[6]')\n",
    "search_booton"
   ]
  },
  {
   "cell_type": "code",
   "execution_count": 81,
   "id": "3aaf2fb8",
   "metadata": {},
   "outputs": [],
   "source": [
    "search_booton.click()"
   ]
  },
  {
   "cell_type": "code",
   "execution_count": 82,
   "id": "db094e89",
   "metadata": {},
   "outputs": [
    {
     "data": {
      "text/plain": [
       "<selenium.webdriver.remote.webelement.WebElement (session=\"0e72a01cc48c2373012ad34d426cc5a1\", element=\"770eed76-524d-474e-9a5d-e924bad71ab2\")>"
      ]
     },
     "execution_count": 82,
     "metadata": {},
     "output_type": "execute_result"
    }
   ],
   "source": [
    "# Location Check box:\n",
    "Location_check=driver.find_element_by_xpath('/html/body/div[1]/div[3]/div[2]/section[1]/div[2]/div[3]/div[2]/div[4]/label/i')\n",
    "Location_check"
   ]
  },
  {
   "cell_type": "code",
   "execution_count": 83,
   "id": "ca718810",
   "metadata": {},
   "outputs": [],
   "source": [
    "Location_check.click()"
   ]
  },
  {
   "cell_type": "code",
   "execution_count": 84,
   "id": "255f7b36",
   "metadata": {},
   "outputs": [
    {
     "data": {
      "text/plain": [
       "<selenium.webdriver.remote.webelement.WebElement (session=\"0e72a01cc48c2373012ad34d426cc5a1\", element=\"dd397663-4ca1-4938-b733-03ae20c5df35\")>"
      ]
     },
     "execution_count": 84,
     "metadata": {},
     "output_type": "execute_result"
    }
   ],
   "source": [
    "# Salary Check box:\n",
    "Salary_check=driver.find_element_by_xpath('/html/body/div[1]/div[3]/div[2]/section[1]/div[2]/div[4]/div[2]/div[2]/label/i')\n",
    "Salary_check"
   ]
  },
  {
   "cell_type": "code",
   "execution_count": 85,
   "id": "d0ebba5f",
   "metadata": {},
   "outputs": [],
   "source": [
    "Salary_check.click()"
   ]
  },
  {
   "cell_type": "code",
   "execution_count": 86,
   "id": "6ffa2f7d",
   "metadata": {},
   "outputs": [
    {
     "data": {
      "text/plain": [
       "[<selenium.webdriver.remote.webelement.WebElement (session=\"0e72a01cc48c2373012ad34d426cc5a1\", element=\"a96203fc-8989-496f-86c2-40f523e8034c\")>,\n",
       " <selenium.webdriver.remote.webelement.WebElement (session=\"0e72a01cc48c2373012ad34d426cc5a1\", element=\"296b3873-2fd1-4cc1-9258-84e98e0696a9\")>,\n",
       " <selenium.webdriver.remote.webelement.WebElement (session=\"0e72a01cc48c2373012ad34d426cc5a1\", element=\"5b2c3074-b855-453e-87d7-23a87f4adac0\")>,\n",
       " <selenium.webdriver.remote.webelement.WebElement (session=\"0e72a01cc48c2373012ad34d426cc5a1\", element=\"a8b44af5-0319-4625-8a6a-4220591ee6c6\")>,\n",
       " <selenium.webdriver.remote.webelement.WebElement (session=\"0e72a01cc48c2373012ad34d426cc5a1\", element=\"e015cdad-2c69-4abc-a24a-224772e778de\")>,\n",
       " <selenium.webdriver.remote.webelement.WebElement (session=\"0e72a01cc48c2373012ad34d426cc5a1\", element=\"dc19c261-9a9b-4916-a513-c21dd6a7c662\")>,\n",
       " <selenium.webdriver.remote.webelement.WebElement (session=\"0e72a01cc48c2373012ad34d426cc5a1\", element=\"b4f92b33-3a96-49e4-9f63-aedcf6c0381b\")>,\n",
       " <selenium.webdriver.remote.webelement.WebElement (session=\"0e72a01cc48c2373012ad34d426cc5a1\", element=\"6906f035-75b9-4443-8f79-eeb8a7d0f6e3\")>,\n",
       " <selenium.webdriver.remote.webelement.WebElement (session=\"0e72a01cc48c2373012ad34d426cc5a1\", element=\"dd25485e-dc08-443f-8b95-bdcbfdffa6e2\")>,\n",
       " <selenium.webdriver.remote.webelement.WebElement (session=\"0e72a01cc48c2373012ad34d426cc5a1\", element=\"b37d8645-b487-4de1-bd51-a22a789fd5b2\")>,\n",
       " <selenium.webdriver.remote.webelement.WebElement (session=\"0e72a01cc48c2373012ad34d426cc5a1\", element=\"4902d086-25c2-4918-ab22-490d9fbf47f6\")>,\n",
       " <selenium.webdriver.remote.webelement.WebElement (session=\"0e72a01cc48c2373012ad34d426cc5a1\", element=\"77427ece-a2dd-4f83-9a3b-9c94b13c9505\")>,\n",
       " <selenium.webdriver.remote.webelement.WebElement (session=\"0e72a01cc48c2373012ad34d426cc5a1\", element=\"38291e43-1f67-4146-93d4-4a881c0749f4\")>,\n",
       " <selenium.webdriver.remote.webelement.WebElement (session=\"0e72a01cc48c2373012ad34d426cc5a1\", element=\"55e1bfe8-7396-48f8-ac57-9bf97cfd9ca9\")>,\n",
       " <selenium.webdriver.remote.webelement.WebElement (session=\"0e72a01cc48c2373012ad34d426cc5a1\", element=\"73f9dd43-92c4-44aa-b7b7-b71dfd231650\")>,\n",
       " <selenium.webdriver.remote.webelement.WebElement (session=\"0e72a01cc48c2373012ad34d426cc5a1\", element=\"359aed40-f4a7-4a4a-9bc5-ef4b2105ec2a\")>,\n",
       " <selenium.webdriver.remote.webelement.WebElement (session=\"0e72a01cc48c2373012ad34d426cc5a1\", element=\"2e603c3b-076a-42af-9cf5-3bca27bcf99c\")>,\n",
       " <selenium.webdriver.remote.webelement.WebElement (session=\"0e72a01cc48c2373012ad34d426cc5a1\", element=\"36799263-51a6-4cbf-a485-b5a387304bb6\")>,\n",
       " <selenium.webdriver.remote.webelement.WebElement (session=\"0e72a01cc48c2373012ad34d426cc5a1\", element=\"a6da21c7-fd59-48a4-b6da-284d3607764c\")>,\n",
       " <selenium.webdriver.remote.webelement.WebElement (session=\"0e72a01cc48c2373012ad34d426cc5a1\", element=\"114565a7-dd9f-4410-89dd-f7cae81e989b\")>]"
      ]
     },
     "execution_count": 86,
     "metadata": {},
     "output_type": "execute_result"
    }
   ],
   "source": [
    "#Title_Tage:\n",
    "Title_tags=driver.find_elements_by_xpath('//a[@class=\"title fw500 ellipsis\"]')\n",
    "Title_tags"
   ]
  },
  {
   "cell_type": "code",
   "execution_count": 87,
   "id": "35528922",
   "metadata": {},
   "outputs": [
    {
     "data": {
      "text/plain": [
       "['Excellent Opportunity For Freshers For AI/ML, Data Scientist, BI, QA',\n",
       " 'Junior Data Analyst/ Scientist- Fresher Position',\n",
       " 'Open Project | IT Consulting | Data Scientist',\n",
       " 'Data Scientist',\n",
       " 'Data Scientist',\n",
       " 'Data Scientist',\n",
       " 'Data Scientist-Onsite and offshore',\n",
       " 'Data & Applied Scientist',\n",
       " 'Data and applied Scientist',\n",
       " 'Data Scientist',\n",
       " 'Data Scientist',\n",
       " 'Data Preparation Analyst / Sr . Analyst',\n",
       " 'Senior Data Analyst',\n",
       " 'Hiring For Data Analyst (SQL & Scala) || Coforge',\n",
       " 'Data Analyst/Data Engineer',\n",
       " 'Urgent Opening For Data Engineer and Senior Data Engineer',\n",
       " 'Data Analyst- 6-9 Years- Pan India-Permanent position',\n",
       " 'Opportunity with Deloitte India | GCP - Data Engineer',\n",
       " 'Fresher Data Engineer with Pentaho Certification',\n",
       " 'Sr.Data Analyst']"
      ]
     },
     "execution_count": 87,
     "metadata": {},
     "output_type": "execute_result"
    }
   ],
   "source": [
    "#Title_name:\n",
    "Title_name2=[]\n",
    "for i in Title_tags:\n",
    "    Title_name2.append(i.text)\n",
    "Title_name2"
   ]
  },
  {
   "cell_type": "code",
   "execution_count": 88,
   "id": "8baa1d58",
   "metadata": {},
   "outputs": [
    {
     "data": {
      "text/plain": [
       "[<selenium.webdriver.remote.webelement.WebElement (session=\"0e72a01cc48c2373012ad34d426cc5a1\", element=\"854f1b4e-56b7-46a5-80fd-6b7f451cf9bf\")>,\n",
       " <selenium.webdriver.remote.webelement.WebElement (session=\"0e72a01cc48c2373012ad34d426cc5a1\", element=\"37f9aa2a-9d67-4f43-8917-43274d17d43f\")>,\n",
       " <selenium.webdriver.remote.webelement.WebElement (session=\"0e72a01cc48c2373012ad34d426cc5a1\", element=\"f8cdd530-7969-4d40-b64c-772428884609\")>,\n",
       " <selenium.webdriver.remote.webelement.WebElement (session=\"0e72a01cc48c2373012ad34d426cc5a1\", element=\"558767b3-5333-49f1-975a-56364ddf1c91\")>,\n",
       " <selenium.webdriver.remote.webelement.WebElement (session=\"0e72a01cc48c2373012ad34d426cc5a1\", element=\"551d0790-383f-4c2c-9852-b1d3d7681a73\")>,\n",
       " <selenium.webdriver.remote.webelement.WebElement (session=\"0e72a01cc48c2373012ad34d426cc5a1\", element=\"352cb657-817e-422e-b3cd-83c1da9d9bc0\")>,\n",
       " <selenium.webdriver.remote.webelement.WebElement (session=\"0e72a01cc48c2373012ad34d426cc5a1\", element=\"a7d46db7-ee9c-4e85-9e9d-752ea5a29404\")>,\n",
       " <selenium.webdriver.remote.webelement.WebElement (session=\"0e72a01cc48c2373012ad34d426cc5a1\", element=\"5cf839c9-28e6-4cef-ac3a-508154192977\")>,\n",
       " <selenium.webdriver.remote.webelement.WebElement (session=\"0e72a01cc48c2373012ad34d426cc5a1\", element=\"9bc43412-3af8-43ef-a9d8-790384b1b709\")>,\n",
       " <selenium.webdriver.remote.webelement.WebElement (session=\"0e72a01cc48c2373012ad34d426cc5a1\", element=\"6dbad384-3f58-46a9-8f39-98a04c4b412f\")>,\n",
       " <selenium.webdriver.remote.webelement.WebElement (session=\"0e72a01cc48c2373012ad34d426cc5a1\", element=\"da2d65c6-8d66-4d3b-9973-ff172a970847\")>,\n",
       " <selenium.webdriver.remote.webelement.WebElement (session=\"0e72a01cc48c2373012ad34d426cc5a1\", element=\"a3b11267-d43a-4992-8e08-f56d455debb5\")>,\n",
       " <selenium.webdriver.remote.webelement.WebElement (session=\"0e72a01cc48c2373012ad34d426cc5a1\", element=\"db762d93-9517-4e98-a42a-df7c25af5b46\")>,\n",
       " <selenium.webdriver.remote.webelement.WebElement (session=\"0e72a01cc48c2373012ad34d426cc5a1\", element=\"106b8d14-c1ae-4c81-8b48-13811a3dad55\")>,\n",
       " <selenium.webdriver.remote.webelement.WebElement (session=\"0e72a01cc48c2373012ad34d426cc5a1\", element=\"80876fa5-e6e7-4826-a822-8b7c13a5a5d8\")>,\n",
       " <selenium.webdriver.remote.webelement.WebElement (session=\"0e72a01cc48c2373012ad34d426cc5a1\", element=\"70541f35-7fbc-48ec-823d-a5952a12583b\")>,\n",
       " <selenium.webdriver.remote.webelement.WebElement (session=\"0e72a01cc48c2373012ad34d426cc5a1\", element=\"55a4f3d2-5cf6-4ef8-8645-dde3d90837b6\")>,\n",
       " <selenium.webdriver.remote.webelement.WebElement (session=\"0e72a01cc48c2373012ad34d426cc5a1\", element=\"29bb8f50-3a64-4608-80a7-e967966c8aaa\")>,\n",
       " <selenium.webdriver.remote.webelement.WebElement (session=\"0e72a01cc48c2373012ad34d426cc5a1\", element=\"72c40282-dba3-4455-9306-1fc6d4b6504f\")>,\n",
       " <selenium.webdriver.remote.webelement.WebElement (session=\"0e72a01cc48c2373012ad34d426cc5a1\", element=\"0a73801c-b6e6-44c6-875f-8e229b8f9ea2\")>]"
      ]
     },
     "execution_count": 88,
     "metadata": {},
     "output_type": "execute_result"
    }
   ],
   "source": [
    "# Company Tag:\n",
    "Company_tags=driver.find_elements_by_xpath('//a[@class=\"subTitle ellipsis fleft\"]')\n",
    "Company_tags"
   ]
  },
  {
   "cell_type": "code",
   "execution_count": 89,
   "id": "90103078",
   "metadata": {},
   "outputs": [
    {
     "data": {
      "text/plain": [
       "['NTT Data',\n",
       " 'Sejal Consulting Hub',\n",
       " 'Virtuoso Staffing Solutions Pvt Ltd',\n",
       " 'BlackBuck',\n",
       " 'Country Veggie',\n",
       " 'NAVIKENZ INDIA PRIVATE LIMITED',\n",
       " 'PROKXIMITY',\n",
       " 'Microsoft',\n",
       " 'Microsoft',\n",
       " 'Alp Consulting Limited',\n",
       " 'SpotDraft',\n",
       " 'Xpheno',\n",
       " 'Urban Company',\n",
       " 'Coforge',\n",
       " 'Coforge',\n",
       " 'FCS Software Solutions',\n",
       " 'Virtusa',\n",
       " 'Deloitte',\n",
       " 'PARAMOUNT HEALTH SERVICES INSURANCE TPA PRIVATE',\n",
       " 'ACZ Global Private Limited']"
      ]
     },
     "execution_count": 89,
     "metadata": {},
     "output_type": "execute_result"
    }
   ],
   "source": [
    "#Company_Name:\n",
    "Comp_Name=[]\n",
    "for i in Company_tags:\n",
    "    Comp_Name.append(i.text)\n",
    "Comp_Name"
   ]
  },
  {
   "cell_type": "code",
   "execution_count": 90,
   "id": "afe3b85b",
   "metadata": {},
   "outputs": [
    {
     "data": {
      "text/plain": [
       "[<selenium.webdriver.remote.webelement.WebElement (session=\"0e72a01cc48c2373012ad34d426cc5a1\", element=\"9e6de8ea-d868-4def-a82e-feb1efa01ea8\")>,\n",
       " <selenium.webdriver.remote.webelement.WebElement (session=\"0e72a01cc48c2373012ad34d426cc5a1\", element=\"c820d643-e98d-43f1-aa8b-44de0192f225\")>,\n",
       " <selenium.webdriver.remote.webelement.WebElement (session=\"0e72a01cc48c2373012ad34d426cc5a1\", element=\"fd53d7c9-6b4e-4f17-af1c-9643cd3cf776\")>,\n",
       " <selenium.webdriver.remote.webelement.WebElement (session=\"0e72a01cc48c2373012ad34d426cc5a1\", element=\"db6afaf1-f79e-436e-975d-d8062ae13402\")>,\n",
       " <selenium.webdriver.remote.webelement.WebElement (session=\"0e72a01cc48c2373012ad34d426cc5a1\", element=\"5a5d7d96-73a1-42cf-9a9b-fd4196754421\")>,\n",
       " <selenium.webdriver.remote.webelement.WebElement (session=\"0e72a01cc48c2373012ad34d426cc5a1\", element=\"f73cde9f-afc5-413b-b79e-eb3d0ff38836\")>,\n",
       " <selenium.webdriver.remote.webelement.WebElement (session=\"0e72a01cc48c2373012ad34d426cc5a1\", element=\"a21297f7-7d8f-4420-9e54-de70a7f87079\")>,\n",
       " <selenium.webdriver.remote.webelement.WebElement (session=\"0e72a01cc48c2373012ad34d426cc5a1\", element=\"6c5e26b8-354d-4d60-8586-c3458214f19c\")>,\n",
       " <selenium.webdriver.remote.webelement.WebElement (session=\"0e72a01cc48c2373012ad34d426cc5a1\", element=\"87fbcd86-93fc-4549-aafa-47b8fcd00665\")>,\n",
       " <selenium.webdriver.remote.webelement.WebElement (session=\"0e72a01cc48c2373012ad34d426cc5a1\", element=\"b7f37da0-7099-4749-96e5-433178da960b\")>,\n",
       " <selenium.webdriver.remote.webelement.WebElement (session=\"0e72a01cc48c2373012ad34d426cc5a1\", element=\"8e8b2759-6f94-4836-9d18-c3d38be9a241\")>,\n",
       " <selenium.webdriver.remote.webelement.WebElement (session=\"0e72a01cc48c2373012ad34d426cc5a1\", element=\"8688662e-b5ed-4e9e-8ba0-ea4b82866b87\")>,\n",
       " <selenium.webdriver.remote.webelement.WebElement (session=\"0e72a01cc48c2373012ad34d426cc5a1\", element=\"d938c22a-af9c-4b44-a640-225c590f0b60\")>,\n",
       " <selenium.webdriver.remote.webelement.WebElement (session=\"0e72a01cc48c2373012ad34d426cc5a1\", element=\"e7209bf8-a8c9-4ec2-bcae-eb6ed1c1b724\")>,\n",
       " <selenium.webdriver.remote.webelement.WebElement (session=\"0e72a01cc48c2373012ad34d426cc5a1\", element=\"b15a507b-eb00-4330-a694-260899b2de24\")>,\n",
       " <selenium.webdriver.remote.webelement.WebElement (session=\"0e72a01cc48c2373012ad34d426cc5a1\", element=\"e854939d-9116-47ad-82a2-c574b355d326\")>,\n",
       " <selenium.webdriver.remote.webelement.WebElement (session=\"0e72a01cc48c2373012ad34d426cc5a1\", element=\"68a7bfe8-700d-404e-90fe-e8cec05f0f47\")>,\n",
       " <selenium.webdriver.remote.webelement.WebElement (session=\"0e72a01cc48c2373012ad34d426cc5a1\", element=\"897a53d7-0cc4-4770-867f-b10f8a29ff0d\")>,\n",
       " <selenium.webdriver.remote.webelement.WebElement (session=\"0e72a01cc48c2373012ad34d426cc5a1\", element=\"b66da605-fb26-457c-b170-5e1cdecbcd1d\")>,\n",
       " <selenium.webdriver.remote.webelement.WebElement (session=\"0e72a01cc48c2373012ad34d426cc5a1\", element=\"83036918-2563-4771-ab2d-de4d2dbbb09c\")>]"
      ]
     },
     "execution_count": 90,
     "metadata": {},
     "output_type": "execute_result"
    }
   ],
   "source": [
    "#Location Tag:\n",
    "Loc_tag=driver.find_elements_by_xpath('//li[@class=\"fleft grey-text br2 placeHolderLi location\"]')\n",
    "Loc_tag"
   ]
  },
  {
   "cell_type": "code",
   "execution_count": 91,
   "id": "96843af6",
   "metadata": {},
   "outputs": [
    {
     "data": {
      "text/plain": [
       "['Noida, Kolkata, Hyderabad/Secunderabad, Pune, Chennai, Bangalore/Bengaluru, Delhi / NCR, Mumbai (All Areas)\\n(WFH during Covid)',\n",
       " 'Kolkata, Hyderabad/Secunderabad, Pune, Ahmedabad, Chennai, Bangalore/Bengaluru, Delhi / NCR, Mumbai (All Areas)\\n(WFH during Covid)',\n",
       " 'Noida, New Delhi, Bangalore Rural, Bangalore/Bengaluru, Delhi / NCR\\n(WFH during Covid)',\n",
       " 'Gurgaon, Bengaluru',\n",
       " 'Bharuch, Jaipur, Bhopal, Mumbai, Jhansi, Nagpur, Ghaziabad, Jaunpur, Kanpur, Delhi, Lucknow, Agra, Gurgaon, Rajkot, Bengaluru',\n",
       " 'Hyderabad/Secunderabad, Bangalore/Bengaluru, Delhi / NCR\\n(WFH during Covid)',\n",
       " 'Hyderabad/Secunderabad, Pune, Chennai, Bangalore/Bengaluru, Delhi / NCR, Mumbai (All Areas)',\n",
       " 'Noida, Hyderabad/Secunderabad, Bangalore/Bengaluru',\n",
       " 'Noida, Hyderabad/Secunderabad, Bangalore/Bengaluru',\n",
       " 'Kolkata, Hyderabad/Secunderabad, Pune, Chennai, Bangalore/Bengaluru, Delhi / NCR',\n",
       " 'Gurgaon/Gurugram, Bangalore/Bengaluru',\n",
       " 'Gurgaon/Gurugram, Bangalore/Bengaluru',\n",
       " 'Gurgaon/Gurugram, Bangalore/Bengaluru',\n",
       " 'Mumbai, Bangalore/Bengaluru, Greater Noida\\n(WFH during Covid)',\n",
       " 'Noida, Mumbai, Hyderabad/Secunderabad, Pune, Bangalore/Bengaluru',\n",
       " 'New Delhi, Hyderabad/Secunderabad, Pune, Ahmedabad, Chennai, Bangalore/Bengaluru, Mumbai (All Areas)',\n",
       " 'Mumbai, Hyderabad/Secunderabad, Chennai, Bangalore/Bengaluru, Delhi / NCR',\n",
       " 'Kolkata, Hyderabad/Secunderabad, Pune, Bangalore/Bengaluru, Delhi / NCR, Mumbai (All Areas)\\n(WFH during Covid)',\n",
       " 'Thane, Navi Mumbai, Pune, Ahmedabad, Bangalore/Bengaluru, Delhi / NCR, Mumbai (All Areas)\\n(WFH during Covid)',\n",
       " 'Kochi/Cochin, Gurgaon/Gurugram, Bangalore/Bengaluru']"
      ]
     },
     "execution_count": 91,
     "metadata": {},
     "output_type": "execute_result"
    }
   ],
   "source": [
    "# Location_Name:\n",
    "Loc_name=[]\n",
    "for i in Loc_tag:\n",
    "    Loc_name.append(i.text)\n",
    "Loc_name"
   ]
  },
  {
   "cell_type": "code",
   "execution_count": 92,
   "id": "548cab79",
   "metadata": {},
   "outputs": [
    {
     "data": {
      "text/plain": [
       "[<selenium.webdriver.remote.webelement.WebElement (session=\"0e72a01cc48c2373012ad34d426cc5a1\", element=\"212a96eb-3173-40f6-b996-d36de25a2652\")>,\n",
       " <selenium.webdriver.remote.webelement.WebElement (session=\"0e72a01cc48c2373012ad34d426cc5a1\", element=\"6b30c10c-bd93-4caa-b8df-5dec39a6fa3d\")>,\n",
       " <selenium.webdriver.remote.webelement.WebElement (session=\"0e72a01cc48c2373012ad34d426cc5a1\", element=\"4de6b2c0-8e6e-459e-8819-a6e65a544b25\")>,\n",
       " <selenium.webdriver.remote.webelement.WebElement (session=\"0e72a01cc48c2373012ad34d426cc5a1\", element=\"eade0b0d-f8af-419c-b916-f0b440db586a\")>,\n",
       " <selenium.webdriver.remote.webelement.WebElement (session=\"0e72a01cc48c2373012ad34d426cc5a1\", element=\"132a6c4e-b9f3-47bc-bf36-4e5d903d20cb\")>,\n",
       " <selenium.webdriver.remote.webelement.WebElement (session=\"0e72a01cc48c2373012ad34d426cc5a1\", element=\"a2268cae-0a42-401d-ab4a-0440b5bfdfd6\")>,\n",
       " <selenium.webdriver.remote.webelement.WebElement (session=\"0e72a01cc48c2373012ad34d426cc5a1\", element=\"49590d43-9416-4fb4-a790-1c20ea7a35b9\")>,\n",
       " <selenium.webdriver.remote.webelement.WebElement (session=\"0e72a01cc48c2373012ad34d426cc5a1\", element=\"9075b257-6be3-423d-bcb9-76993d767616\")>,\n",
       " <selenium.webdriver.remote.webelement.WebElement (session=\"0e72a01cc48c2373012ad34d426cc5a1\", element=\"7c0cf4c1-a8d0-4395-9a78-1f2a6f555b60\")>,\n",
       " <selenium.webdriver.remote.webelement.WebElement (session=\"0e72a01cc48c2373012ad34d426cc5a1\", element=\"426273cc-1081-4391-a989-0d1916ad4f9e\")>,\n",
       " <selenium.webdriver.remote.webelement.WebElement (session=\"0e72a01cc48c2373012ad34d426cc5a1\", element=\"fe3910d0-8126-4bcb-a496-c4b816b8d194\")>,\n",
       " <selenium.webdriver.remote.webelement.WebElement (session=\"0e72a01cc48c2373012ad34d426cc5a1\", element=\"c77ce4de-d648-45d4-a862-df69b3155101\")>,\n",
       " <selenium.webdriver.remote.webelement.WebElement (session=\"0e72a01cc48c2373012ad34d426cc5a1\", element=\"3a7521cd-6a15-4a89-a10f-446f7349afc2\")>,\n",
       " <selenium.webdriver.remote.webelement.WebElement (session=\"0e72a01cc48c2373012ad34d426cc5a1\", element=\"fd66569c-9ca2-46e8-b4f0-43fd14227854\")>,\n",
       " <selenium.webdriver.remote.webelement.WebElement (session=\"0e72a01cc48c2373012ad34d426cc5a1\", element=\"26970620-67c8-4ecd-85a7-f37f5b50e9a5\")>,\n",
       " <selenium.webdriver.remote.webelement.WebElement (session=\"0e72a01cc48c2373012ad34d426cc5a1\", element=\"b4e677d1-7564-4438-9767-187776548a8f\")>,\n",
       " <selenium.webdriver.remote.webelement.WebElement (session=\"0e72a01cc48c2373012ad34d426cc5a1\", element=\"8facd638-0eeb-4930-bded-01babd0aeb5e\")>,\n",
       " <selenium.webdriver.remote.webelement.WebElement (session=\"0e72a01cc48c2373012ad34d426cc5a1\", element=\"5787b0fa-7da0-4536-9446-3a59c1ea363e\")>,\n",
       " <selenium.webdriver.remote.webelement.WebElement (session=\"0e72a01cc48c2373012ad34d426cc5a1\", element=\"7e961d76-6b02-4d73-9166-9b45fdc11b90\")>,\n",
       " <selenium.webdriver.remote.webelement.WebElement (session=\"0e72a01cc48c2373012ad34d426cc5a1\", element=\"708e1110-8ac1-46ba-912d-8d4a9b6437ca\")>]"
      ]
     },
     "execution_count": 92,
     "metadata": {},
     "output_type": "execute_result"
    }
   ],
   "source": [
    "#Experience_Tag:\n",
    "Exp_tag=driver.find_elements_by_xpath('//li[@class=\"fleft grey-text br2 placeHolderLi experience\"]')\n",
    "Exp_tag"
   ]
  },
  {
   "cell_type": "code",
   "execution_count": 93,
   "id": "d4405b7d",
   "metadata": {},
   "outputs": [
    {
     "data": {
      "text/plain": [
       "['0-0 Yrs',\n",
       " '0-3 Yrs',\n",
       " '5-10 Yrs',\n",
       " '3-7 Yrs',\n",
       " '1-3 Yrs',\n",
       " '2-5 Yrs',\n",
       " '3-8 Yrs',\n",
       " '3-7 Yrs',\n",
       " '3-7 Yrs',\n",
       " '1-6 Yrs',\n",
       " '1-5 Yrs',\n",
       " '6-11 Yrs',\n",
       " '2-4 Yrs',\n",
       " '4-8 Yrs',\n",
       " '6-10 Yrs',\n",
       " '3-8 Yrs',\n",
       " '6-9 Yrs',\n",
       " '2-6 Yrs',\n",
       " '0-1 Yrs',\n",
       " '4-6 Yrs']"
      ]
     },
     "execution_count": 93,
     "metadata": {},
     "output_type": "execute_result"
    }
   ],
   "source": [
    "#Experience_Name:\n",
    "Exp_name=[]\n",
    "for i in Exp_tag:\n",
    "    Exp_name.append(i.text)\n",
    "Exp_name"
   ]
  },
  {
   "cell_type": "code",
   "execution_count": 94,
   "id": "4094e259",
   "metadata": {},
   "outputs": [
    {
     "data": {
      "text/plain": [
       "[<selenium.webdriver.remote.webelement.WebElement (session=\"0e72a01cc48c2373012ad34d426cc5a1\", element=\"32b7e3c3-2210-4b90-b34c-ae142a229c0c\")>,\n",
       " <selenium.webdriver.remote.webelement.WebElement (session=\"0e72a01cc48c2373012ad34d426cc5a1\", element=\"335a1042-b8f4-47c0-b46f-3c24e6fbe8e2\")>,\n",
       " <selenium.webdriver.remote.webelement.WebElement (session=\"0e72a01cc48c2373012ad34d426cc5a1\", element=\"8b41ecfa-7312-46cd-9e7b-a8afa7bfa889\")>,\n",
       " <selenium.webdriver.remote.webelement.WebElement (session=\"0e72a01cc48c2373012ad34d426cc5a1\", element=\"6771e7a0-1b5a-4ec3-b939-4cbad04b6669\")>,\n",
       " <selenium.webdriver.remote.webelement.WebElement (session=\"0e72a01cc48c2373012ad34d426cc5a1\", element=\"bcee93ee-8e8f-49bd-8ccf-ccebad4cdfd2\")>,\n",
       " <selenium.webdriver.remote.webelement.WebElement (session=\"0e72a01cc48c2373012ad34d426cc5a1\", element=\"101d1007-4809-4664-8199-ba8612eb17b6\")>,\n",
       " <selenium.webdriver.remote.webelement.WebElement (session=\"0e72a01cc48c2373012ad34d426cc5a1\", element=\"fc34b901-fcc9-4ef8-915c-5fd2d90c2c47\")>,\n",
       " <selenium.webdriver.remote.webelement.WebElement (session=\"0e72a01cc48c2373012ad34d426cc5a1\", element=\"332f2a01-5b1d-42ea-a647-8be64bc23a19\")>,\n",
       " <selenium.webdriver.remote.webelement.WebElement (session=\"0e72a01cc48c2373012ad34d426cc5a1\", element=\"83874313-2387-4a08-9e46-da6b6326718f\")>,\n",
       " <selenium.webdriver.remote.webelement.WebElement (session=\"0e72a01cc48c2373012ad34d426cc5a1\", element=\"26ed26e2-e347-422a-a130-99b671d841c2\")>,\n",
       " <selenium.webdriver.remote.webelement.WebElement (session=\"0e72a01cc48c2373012ad34d426cc5a1\", element=\"2146633f-a8bf-4c8b-88cb-28ccde28523d\")>,\n",
       " <selenium.webdriver.remote.webelement.WebElement (session=\"0e72a01cc48c2373012ad34d426cc5a1\", element=\"4ecf8377-ea6f-492e-a7e0-19141d0e10fe\")>,\n",
       " <selenium.webdriver.remote.webelement.WebElement (session=\"0e72a01cc48c2373012ad34d426cc5a1\", element=\"adce4f25-0ad0-4379-bec4-1ce619d456e7\")>,\n",
       " <selenium.webdriver.remote.webelement.WebElement (session=\"0e72a01cc48c2373012ad34d426cc5a1\", element=\"1f573779-0c2b-4e30-84ff-254f095f8511\")>,\n",
       " <selenium.webdriver.remote.webelement.WebElement (session=\"0e72a01cc48c2373012ad34d426cc5a1\", element=\"56dd86ea-f87e-4bca-b01e-5e800922feda\")>,\n",
       " <selenium.webdriver.remote.webelement.WebElement (session=\"0e72a01cc48c2373012ad34d426cc5a1\", element=\"3aa1b014-c3fa-42a1-add9-e1a0ec3e6a2f\")>,\n",
       " <selenium.webdriver.remote.webelement.WebElement (session=\"0e72a01cc48c2373012ad34d426cc5a1\", element=\"0edc2940-388e-4049-b33e-bf46a25c8fd9\")>,\n",
       " <selenium.webdriver.remote.webelement.WebElement (session=\"0e72a01cc48c2373012ad34d426cc5a1\", element=\"aaa851cc-c0c8-4242-88ea-eea3e7a2d788\")>,\n",
       " <selenium.webdriver.remote.webelement.WebElement (session=\"0e72a01cc48c2373012ad34d426cc5a1\", element=\"10a0fbb6-6329-4be3-9d6b-7abef49894c0\")>,\n",
       " <selenium.webdriver.remote.webelement.WebElement (session=\"0e72a01cc48c2373012ad34d426cc5a1\", element=\"f78b84b6-29a2-455b-b4e1-a45068fc3b91\")>]"
      ]
     },
     "execution_count": 94,
     "metadata": {},
     "output_type": "execute_result"
    }
   ],
   "source": [
    "#Salary_tag:\n",
    "Salary_tag=driver.find_elements_by_xpath('//li[@class=\"fleft grey-text br2 placeHolderLi salary\"]')\n",
    "Salary_tag"
   ]
  },
  {
   "cell_type": "code",
   "execution_count": 95,
   "id": "fe339809",
   "metadata": {},
   "outputs": [
    {
     "data": {
      "text/plain": [
       "['3,50,000 - 5,00,000 PA.',\n",
       " '4,00,000 - 7,00,000 PA.',\n",
       " 'Not disclosed',\n",
       " 'Not disclosed',\n",
       " 'Not disclosed',\n",
       " 'Not disclosed',\n",
       " 'Not disclosed',\n",
       " 'Not disclosed',\n",
       " 'Not disclosed',\n",
       " 'Not disclosed',\n",
       " 'Not disclosed',\n",
       " 'Not disclosed',\n",
       " 'Not disclosed',\n",
       " '4,00,000 - 9,00,000 PA.',\n",
       " 'Not disclosed',\n",
       " '4,00,000 - 9,00,000 PA.',\n",
       " 'Not disclosed',\n",
       " 'Not disclosed',\n",
       " '1,50,000 - 3,75,000 PA.',\n",
       " 'Not disclosed']"
      ]
     },
     "execution_count": 95,
     "metadata": {},
     "output_type": "execute_result"
    }
   ],
   "source": [
    "#Salary:\n",
    "Sal_name=[]\n",
    "for i in Salary_tag:\n",
    "    Sal_name.append(i.text)\n",
    "Sal_name"
   ]
  },
  {
   "cell_type": "code",
   "execution_count": 96,
   "id": "806a0a5a",
   "metadata": {},
   "outputs": [
    {
     "data": {
      "text/plain": [
       "(20, 20, 20, 20, 20)"
      ]
     },
     "execution_count": 96,
     "metadata": {},
     "output_type": "execute_result"
    }
   ],
   "source": [
    "len(Title_name2),len(Comp_Name),len(Loc_name),len(Exp_name),len(Sal_name)"
   ]
  },
  {
   "cell_type": "code",
   "execution_count": 98,
   "id": "23b1c160",
   "metadata": {},
   "outputs": [],
   "source": [
    "#DataFrame:\n",
    "Jobs3=pd.DataFrame({\"Title\":Title_name2,\"Company\":Comp_Name,\"Location\":Loc_name,\"Experience\":Exp_name,\"Salary\":Sal_name})"
   ]
  },
  {
   "cell_type": "code",
   "execution_count": 99,
   "id": "97b41ae5",
   "metadata": {},
   "outputs": [
    {
     "data": {
      "text/html": [
       "<div>\n",
       "<style scoped>\n",
       "    .dataframe tbody tr th:only-of-type {\n",
       "        vertical-align: middle;\n",
       "    }\n",
       "\n",
       "    .dataframe tbody tr th {\n",
       "        vertical-align: top;\n",
       "    }\n",
       "\n",
       "    .dataframe thead th {\n",
       "        text-align: right;\n",
       "    }\n",
       "</style>\n",
       "<table border=\"1\" class=\"dataframe\">\n",
       "  <thead>\n",
       "    <tr style=\"text-align: right;\">\n",
       "      <th></th>\n",
       "      <th>Title</th>\n",
       "      <th>Company</th>\n",
       "      <th>Location</th>\n",
       "      <th>Experience</th>\n",
       "      <th>Salary</th>\n",
       "    </tr>\n",
       "  </thead>\n",
       "  <tbody>\n",
       "    <tr>\n",
       "      <th>0</th>\n",
       "      <td>Excellent Opportunity For Freshers For AI/ML, ...</td>\n",
       "      <td>NTT Data</td>\n",
       "      <td>Noida, Kolkata, Hyderabad/Secunderabad, Pune, ...</td>\n",
       "      <td>0-0 Yrs</td>\n",
       "      <td>3,50,000 - 5,00,000 PA.</td>\n",
       "    </tr>\n",
       "    <tr>\n",
       "      <th>1</th>\n",
       "      <td>Junior Data Analyst/ Scientist- Fresher Position</td>\n",
       "      <td>Sejal Consulting Hub</td>\n",
       "      <td>Kolkata, Hyderabad/Secunderabad, Pune, Ahmedab...</td>\n",
       "      <td>0-3 Yrs</td>\n",
       "      <td>4,00,000 - 7,00,000 PA.</td>\n",
       "    </tr>\n",
       "    <tr>\n",
       "      <th>2</th>\n",
       "      <td>Open Project | IT Consulting | Data Scientist</td>\n",
       "      <td>Virtuoso Staffing Solutions Pvt Ltd</td>\n",
       "      <td>Noida, New Delhi, Bangalore Rural, Bangalore/B...</td>\n",
       "      <td>5-10 Yrs</td>\n",
       "      <td>Not disclosed</td>\n",
       "    </tr>\n",
       "    <tr>\n",
       "      <th>3</th>\n",
       "      <td>Data Scientist</td>\n",
       "      <td>BlackBuck</td>\n",
       "      <td>Gurgaon, Bengaluru</td>\n",
       "      <td>3-7 Yrs</td>\n",
       "      <td>Not disclosed</td>\n",
       "    </tr>\n",
       "    <tr>\n",
       "      <th>4</th>\n",
       "      <td>Data Scientist</td>\n",
       "      <td>Country Veggie</td>\n",
       "      <td>Bharuch, Jaipur, Bhopal, Mumbai, Jhansi, Nagpu...</td>\n",
       "      <td>1-3 Yrs</td>\n",
       "      <td>Not disclosed</td>\n",
       "    </tr>\n",
       "    <tr>\n",
       "      <th>5</th>\n",
       "      <td>Data Scientist</td>\n",
       "      <td>NAVIKENZ INDIA PRIVATE LIMITED</td>\n",
       "      <td>Hyderabad/Secunderabad, Bangalore/Bengaluru, D...</td>\n",
       "      <td>2-5 Yrs</td>\n",
       "      <td>Not disclosed</td>\n",
       "    </tr>\n",
       "    <tr>\n",
       "      <th>6</th>\n",
       "      <td>Data Scientist-Onsite and offshore</td>\n",
       "      <td>PROKXIMITY</td>\n",
       "      <td>Hyderabad/Secunderabad, Pune, Chennai, Bangalo...</td>\n",
       "      <td>3-8 Yrs</td>\n",
       "      <td>Not disclosed</td>\n",
       "    </tr>\n",
       "    <tr>\n",
       "      <th>7</th>\n",
       "      <td>Data &amp; Applied Scientist</td>\n",
       "      <td>Microsoft</td>\n",
       "      <td>Noida, Hyderabad/Secunderabad, Bangalore/Benga...</td>\n",
       "      <td>3-7 Yrs</td>\n",
       "      <td>Not disclosed</td>\n",
       "    </tr>\n",
       "    <tr>\n",
       "      <th>8</th>\n",
       "      <td>Data and applied Scientist</td>\n",
       "      <td>Microsoft</td>\n",
       "      <td>Noida, Hyderabad/Secunderabad, Bangalore/Benga...</td>\n",
       "      <td>3-7 Yrs</td>\n",
       "      <td>Not disclosed</td>\n",
       "    </tr>\n",
       "    <tr>\n",
       "      <th>9</th>\n",
       "      <td>Data Scientist</td>\n",
       "      <td>Alp Consulting Limited</td>\n",
       "      <td>Kolkata, Hyderabad/Secunderabad, Pune, Chennai...</td>\n",
       "      <td>1-6 Yrs</td>\n",
       "      <td>Not disclosed</td>\n",
       "    </tr>\n",
       "    <tr>\n",
       "      <th>10</th>\n",
       "      <td>Data Scientist</td>\n",
       "      <td>SpotDraft</td>\n",
       "      <td>Gurgaon/Gurugram, Bangalore/Bengaluru</td>\n",
       "      <td>1-5 Yrs</td>\n",
       "      <td>Not disclosed</td>\n",
       "    </tr>\n",
       "  </tbody>\n",
       "</table>\n",
       "</div>"
      ],
      "text/plain": [
       "                                                Title  \\\n",
       "0   Excellent Opportunity For Freshers For AI/ML, ...   \n",
       "1    Junior Data Analyst/ Scientist- Fresher Position   \n",
       "2       Open Project | IT Consulting | Data Scientist   \n",
       "3                                      Data Scientist   \n",
       "4                                      Data Scientist   \n",
       "5                                      Data Scientist   \n",
       "6                  Data Scientist-Onsite and offshore   \n",
       "7                            Data & Applied Scientist   \n",
       "8                          Data and applied Scientist   \n",
       "9                                      Data Scientist   \n",
       "10                                     Data Scientist   \n",
       "\n",
       "                                Company  \\\n",
       "0                              NTT Data   \n",
       "1                  Sejal Consulting Hub   \n",
       "2   Virtuoso Staffing Solutions Pvt Ltd   \n",
       "3                             BlackBuck   \n",
       "4                        Country Veggie   \n",
       "5        NAVIKENZ INDIA PRIVATE LIMITED   \n",
       "6                            PROKXIMITY   \n",
       "7                             Microsoft   \n",
       "8                             Microsoft   \n",
       "9                Alp Consulting Limited   \n",
       "10                            SpotDraft   \n",
       "\n",
       "                                             Location Experience  \\\n",
       "0   Noida, Kolkata, Hyderabad/Secunderabad, Pune, ...    0-0 Yrs   \n",
       "1   Kolkata, Hyderabad/Secunderabad, Pune, Ahmedab...    0-3 Yrs   \n",
       "2   Noida, New Delhi, Bangalore Rural, Bangalore/B...   5-10 Yrs   \n",
       "3                                  Gurgaon, Bengaluru    3-7 Yrs   \n",
       "4   Bharuch, Jaipur, Bhopal, Mumbai, Jhansi, Nagpu...    1-3 Yrs   \n",
       "5   Hyderabad/Secunderabad, Bangalore/Bengaluru, D...    2-5 Yrs   \n",
       "6   Hyderabad/Secunderabad, Pune, Chennai, Bangalo...    3-8 Yrs   \n",
       "7   Noida, Hyderabad/Secunderabad, Bangalore/Benga...    3-7 Yrs   \n",
       "8   Noida, Hyderabad/Secunderabad, Bangalore/Benga...    3-7 Yrs   \n",
       "9   Kolkata, Hyderabad/Secunderabad, Pune, Chennai...    1-6 Yrs   \n",
       "10              Gurgaon/Gurugram, Bangalore/Bengaluru    1-5 Yrs   \n",
       "\n",
       "                     Salary  \n",
       "0   3,50,000 - 5,00,000 PA.  \n",
       "1   4,00,000 - 7,00,000 PA.  \n",
       "2             Not disclosed  \n",
       "3             Not disclosed  \n",
       "4             Not disclosed  \n",
       "5             Not disclosed  \n",
       "6             Not disclosed  \n",
       "7             Not disclosed  \n",
       "8             Not disclosed  \n",
       "9             Not disclosed  \n",
       "10            Not disclosed  "
      ]
     },
     "execution_count": 99,
     "metadata": {},
     "output_type": "execute_result"
    }
   ],
   "source": [
    "Jobs3[0:11]"
   ]
  },
  {
   "cell_type": "markdown",
   "id": "de4e316d",
   "metadata": {},
   "source": [
    "## Q4: Scrape data of first 100 sunglasses listings on flipkart.com. You have to scrape four attributes:1. Brand 2. Product Description 3. Price"
   ]
  },
  {
   "cell_type": "code",
   "execution_count": 138,
   "id": "134f6db1",
   "metadata": {},
   "outputs": [],
   "source": [
    "driver=webdriver.Chrome(\"E:/chromedriver.exe\")"
   ]
  },
  {
   "cell_type": "code",
   "execution_count": 139,
   "id": "c31f95d6",
   "metadata": {},
   "outputs": [],
   "source": [
    "url='https://www.flipkart.com/'\n",
    "driver.get(url)"
   ]
  },
  {
   "cell_type": "code",
   "execution_count": 140,
   "id": "c23acbb7",
   "metadata": {},
   "outputs": [
    {
     "data": {
      "text/plain": [
       "<selenium.webdriver.remote.webelement.WebElement (session=\"4dc8ad68346d644cf82317af38f49921\", element=\"280a98a8-c874-4ed8-9c8b-d877c152a4c1\")>"
      ]
     },
     "execution_count": 140,
     "metadata": {},
     "output_type": "execute_result"
    }
   ],
   "source": [
    "# finding the web elements for search job bar using id:\n",
    "search_product=driver.find_element_by_class_name(\"_3704LK\")\n",
    "search_product"
   ]
  },
  {
   "cell_type": "code",
   "execution_count": 141,
   "id": "55de6260",
   "metadata": {},
   "outputs": [],
   "source": [
    "#Write the WebElement:\n",
    "search_product.send_keys(\"sunglasses\")"
   ]
  },
  {
   "cell_type": "code",
   "execution_count": 142,
   "id": "b616c6d8",
   "metadata": {},
   "outputs": [],
   "source": [
    "search_product.click()"
   ]
  },
  {
   "cell_type": "code",
   "execution_count": 146,
   "id": "a0949838",
   "metadata": {},
   "outputs": [
    {
     "name": "stdout",
     "output_type": "stream",
     "text": [
      "[<selenium.webdriver.remote.webelement.WebElement (session=\"4dc8ad68346d644cf82317af38f49921\", element=\"95491b87-ff9b-4c17-a2e2-f8fa69999de9\")>, <selenium.webdriver.remote.webelement.WebElement (session=\"4dc8ad68346d644cf82317af38f49921\", element=\"480e43d1-add4-464e-9a53-b9a41fded582\")>]\n",
      "[<selenium.webdriver.remote.webelement.WebElement (session=\"4dc8ad68346d644cf82317af38f49921\", element=\"de0cecc4-658d-4673-9a85-3004ec991780\")>, <selenium.webdriver.remote.webelement.WebElement (session=\"4dc8ad68346d644cf82317af38f49921\", element=\"560d9f15-e704-4af1-933d-80a719f7e596\")>]\n",
      "[<selenium.webdriver.remote.webelement.WebElement (session=\"4dc8ad68346d644cf82317af38f49921\", element=\"eb1d6437-ef98-4c40-bc78-b9d278d5cfd1\")>, <selenium.webdriver.remote.webelement.WebElement (session=\"4dc8ad68346d644cf82317af38f49921\", element=\"f7d0f11c-cc58-475b-8b76-d44768fe6044\")>]\n",
      "[<selenium.webdriver.remote.webelement.WebElement (session=\"4dc8ad68346d644cf82317af38f49921\", element=\"ba9a730b-a7f4-46fc-a17e-8440635f9784\")>, <selenium.webdriver.remote.webelement.WebElement (session=\"4dc8ad68346d644cf82317af38f49921\", element=\"ec4a7ced-4232-4918-9e22-ce86f7db63c3\")>]\n",
      "['ROZZETTA CRAFT', 'ROYAL SON']\n",
      "['UV Protection Round Sunglasses (Free Size)', 'Polarized, UV Protection Round Sunglasses (52)']\n",
      "['₹376', '₹709']\n",
      "['85% off', '64% off']\n"
     ]
    }
   ],
   "source": [
    "#tagS:\n",
    "\n",
    "Dealer_tag=driver.find_elements_by_xpath('//div[@class=\"_2WkVRV\"]')\n",
    "print(Dealer_tag[0:2])\n",
    "Prodesc_tag=driver.find_elements_by_xpath('//a[@class=\"IRpwTa\"]')\n",
    "print(Prodesc_tag[0:2])\n",
    "Price_tag=driver.find_elements_by_xpath('//div[@class=\"_30jeq3\"]')\n",
    "print(Price_tag[0:2])\n",
    "Discount_tag=driver.find_elements_by_xpath('//div[@class=\"_3Ay6Sb\"]')\n",
    "print(Discount_tag[0:2])\n",
    "#extracting the names:\n",
    "\n",
    "Dealer_name=[]\n",
    "Pro_desc=[]\n",
    "Price=[]\n",
    "Discount=[]\n",
    "for i in Dealer_tag:\n",
    "    Dealer_name.append(i.text)\n",
    "for i in Prodesc_tag:\n",
    "    Pro_desc.append(i.text)\n",
    "for i in Price_tag:\n",
    "    Price.append(i.text)\n",
    "for i in Discount_tag:\n",
    "    Discount.append(i.text)\n",
    "print(Dealer_name[0:2])\n",
    "print(Pro_desc[0:2])    \n",
    "print(Price[0:2])  \n",
    "print(Discount[0:2])\n"
   ]
  },
  {
   "cell_type": "code",
   "execution_count": 147,
   "id": "470837da",
   "metadata": {},
   "outputs": [
    {
     "data": {
      "text/plain": [
       "<selenium.webdriver.remote.webelement.WebElement (session=\"4dc8ad68346d644cf82317af38f49921\", element=\"3a3406cd-9251-40ec-9b3e-a5a8c4ba99fd\")>"
      ]
     },
     "execution_count": 147,
     "metadata": {},
     "output_type": "execute_result"
    }
   ],
   "source": [
    "# Next botton extracting by xPath:\n",
    "Next_booton=driver.find_element_by_xpath('/html/body/div[1]/div/div[3]/div[1]/div[2]/div[12]/div/div/nav/a[11]')\n",
    "Next_booton"
   ]
  },
  {
   "cell_type": "code",
   "execution_count": 148,
   "id": "02a31a92",
   "metadata": {},
   "outputs": [],
   "source": [
    "Next_booton.click()"
   ]
  },
  {
   "cell_type": "code",
   "execution_count": 149,
   "id": "baf4b6b3",
   "metadata": {},
   "outputs": [
    {
     "name": "stdout",
     "output_type": "stream",
     "text": [
      "[]\n",
      "[]\n",
      "[]\n",
      "[]\n",
      "['PIRASO', 'Elligator', 'AISLIN', 'PHENOMENAL']\n",
      "['Toughened Glass Lens, UV Protection Wayfarer, Rectangul...', 'UV Protection Retro Square Sunglasses (Free Size)', 'UV Protection Over-sized Sunglasses (57)', 'UV Protection Shield Sunglasses (Free Size)']\n",
      "['₹299', '₹126', '₹948', '₹278']\n",
      "['88% off', '91% off', '74% off', '86% off']\n"
     ]
    }
   ],
   "source": [
    "# Page 2:\n",
    "Dealer_tag=driver.find_elements_by_xpath('//div[@class=\"_2WkVRV\"]')\n",
    "    \n",
    "Prodesc_tag=driver.find_elements_by_xpath('//a[@class=\"IRpwTa\"]')\n",
    "    \n",
    "Price_tag=driver.find_elements_by_xpath('//div[@class=\"_30jeq3\"]')\n",
    "    \n",
    "Discount_tag=driver.find_elements_by_xpath('//div[@class=\"_3Ay6Sb\"]')\n",
    "    \n",
    "#extracting the names:\n",
    "\n",
    "for i in Dealer_tag:\n",
    "    Dealer_name.append(i.text)\n",
    "for i in Prodesc_tag:\n",
    "    Pro_desc.append(i.text)\n",
    "for i in Price_tag:\n",
    "    Price.append(i.text)\n",
    "for i in Discount_tag:\n",
    "    Discount.append(i.text)\n",
    "    \n",
    "print(Dealer_tag[41:45])\n",
    "print(Prodesc_tag[41:45])\n",
    "print(Price_tag[41:45])\n",
    "print(Discount_tag[41:45])\n",
    "print(Dealer_name[41:45])\n",
    "print(Pro_desc[41:45])    \n",
    "print(Price[41:45])  \n",
    "print(Discount[41:45])\n",
    "    "
   ]
  },
  {
   "cell_type": "code",
   "execution_count": 151,
   "id": "e9316e7e",
   "metadata": {},
   "outputs": [],
   "source": [
    "Next_booton.click()"
   ]
  },
  {
   "cell_type": "code",
   "execution_count": 152,
   "id": "b5b4058b",
   "metadata": {},
   "outputs": [
    {
     "name": "stdout",
     "output_type": "stream",
     "text": [
      "[]\n",
      "[]\n",
      "[]\n",
      "[]\n",
      "['ROZZETTA CRAFT', 'hipe', 'elegante', 'SUNBEE']\n",
      "['UV Protection Wayfarer Sunglasses (Free Size)', 'UV Protection, Polarized, Mirrored Wayfarer Sunglasses ...', 'UV Protection Wayfarer Sunglasses (Free Size)', 'UV Protection, Gradient, Mirrored, Riding Glasses Aviat...']\n",
      "['₹424', '₹139', '₹349', '₹203']\n",
      "['78% off', '90% off', '76% off', '84% off']\n"
     ]
    }
   ],
   "source": [
    "#Page 3 Extraction:\n",
    "\n",
    "Dealer_tag=driver.find_elements_by_xpath('//div[@class=\"_2WkVRV\"]')\n",
    "    \n",
    "Prodesc_tag=driver.find_elements_by_xpath('//a[@class=\"IRpwTa\"]')\n",
    "    \n",
    "Price_tag=driver.find_elements_by_xpath('//div[@class=\"_30jeq3\"]')\n",
    "    \n",
    "Discount_tag=driver.find_elements_by_xpath('//div[@class=\"_3Ay6Sb\"]')\n",
    "    \n",
    "#extracting the names:\n",
    "\n",
    "for i in Dealer_tag:\n",
    "    Dealer_name.append(i.text)\n",
    "for i in Prodesc_tag:\n",
    "    Pro_desc.append(i.text)\n",
    "for i in Price_tag:\n",
    "    Price.append(i.text)\n",
    "for i in Discount_tag:\n",
    "    Discount.append(i.text)\n",
    "    \n",
    "print(Dealer_tag[91:95])\n",
    "print(Prodesc_tag[91:95])\n",
    "print(Price_tag[91:95])\n",
    "print(Discount_tag[91:95])\n",
    "print(Dealer_name[91:95])\n",
    "print(Pro_desc[91:95])    \n",
    "print(Price[91:95])  \n",
    "print(Discount[91:95])\n",
    "    "
   ]
  },
  {
   "cell_type": "code",
   "execution_count": 154,
   "id": "92c2c443",
   "metadata": {},
   "outputs": [
    {
     "data": {
      "text/plain": [
       "(120, 118, 120, 120)"
      ]
     },
     "execution_count": 154,
     "metadata": {},
     "output_type": "execute_result"
    }
   ],
   "source": [
    "len(Dealer_name),len(Pro_desc),len(Price),len(Discount)"
   ]
  },
  {
   "cell_type": "code",
   "execution_count": 155,
   "id": "3d152f71",
   "metadata": {},
   "outputs": [],
   "source": [
    "#DataFrame:\n",
    "SunGlass=pd.DataFrame({\"Vendoer\":Dealer_name[0:101],\"Description\":Pro_desc[0:101],\"Price\":Price[0:101],\"Discount\":Discount[0:101]})"
   ]
  },
  {
   "cell_type": "code",
   "execution_count": 156,
   "id": "52817a3d",
   "metadata": {},
   "outputs": [
    {
     "data": {
      "text/html": [
       "<div>\n",
       "<style scoped>\n",
       "    .dataframe tbody tr th:only-of-type {\n",
       "        vertical-align: middle;\n",
       "    }\n",
       "\n",
       "    .dataframe tbody tr th {\n",
       "        vertical-align: top;\n",
       "    }\n",
       "\n",
       "    .dataframe thead th {\n",
       "        text-align: right;\n",
       "    }\n",
       "</style>\n",
       "<table border=\"1\" class=\"dataframe\">\n",
       "  <thead>\n",
       "    <tr style=\"text-align: right;\">\n",
       "      <th></th>\n",
       "      <th>Vendoer</th>\n",
       "      <th>Description</th>\n",
       "      <th>Price</th>\n",
       "      <th>Discount</th>\n",
       "    </tr>\n",
       "  </thead>\n",
       "  <tbody>\n",
       "    <tr>\n",
       "      <th>0</th>\n",
       "      <td>ROZZETTA CRAFT</td>\n",
       "      <td>UV Protection Round Sunglasses (Free Size)</td>\n",
       "      <td>₹376</td>\n",
       "      <td>85% off</td>\n",
       "    </tr>\n",
       "    <tr>\n",
       "      <th>1</th>\n",
       "      <td>ROYAL SON</td>\n",
       "      <td>Polarized, UV Protection Round Sunglasses (52)</td>\n",
       "      <td>₹709</td>\n",
       "      <td>64% off</td>\n",
       "    </tr>\n",
       "    <tr>\n",
       "      <th>2</th>\n",
       "      <td>SRPM</td>\n",
       "      <td>UV Protection Wayfarer Sunglasses (50)</td>\n",
       "      <td>₹148</td>\n",
       "      <td>88% off</td>\n",
       "    </tr>\n",
       "    <tr>\n",
       "      <th>3</th>\n",
       "      <td>SUNBEE</td>\n",
       "      <td>UV Protection, Polarized Wayfarer Sunglasses (...</td>\n",
       "      <td>₹203</td>\n",
       "      <td>84% off</td>\n",
       "    </tr>\n",
       "    <tr>\n",
       "      <th>4</th>\n",
       "      <td>PIRASO</td>\n",
       "      <td>UV Protection Aviator Sunglasses (54)</td>\n",
       "      <td>₹179</td>\n",
       "      <td>88% off</td>\n",
       "    </tr>\n",
       "    <tr>\n",
       "      <th>...</th>\n",
       "      <td>...</td>\n",
       "      <td>...</td>\n",
       "      <td>...</td>\n",
       "      <td>...</td>\n",
       "    </tr>\n",
       "    <tr>\n",
       "      <th>96</th>\n",
       "      <td>hipe</td>\n",
       "      <td>UV Protection, Riding Glasses Retro Square, Sp...</td>\n",
       "      <td>₹159</td>\n",
       "      <td>84% off</td>\n",
       "    </tr>\n",
       "    <tr>\n",
       "      <th>97</th>\n",
       "      <td>Lee Topper</td>\n",
       "      <td>Polarized, UV Protection Aviator Sunglasses (64)</td>\n",
       "      <td>₹231</td>\n",
       "      <td>82% off</td>\n",
       "    </tr>\n",
       "    <tr>\n",
       "      <th>98</th>\n",
       "      <td>Lee Topper</td>\n",
       "      <td>UV Protection Cat-eye Sunglasses (17)</td>\n",
       "      <td>₹325</td>\n",
       "      <td>74% off</td>\n",
       "    </tr>\n",
       "    <tr>\n",
       "      <th>99</th>\n",
       "      <td>ROYAL SON</td>\n",
       "      <td>UV Protection Wayfarer Sunglasses (Free Size)</td>\n",
       "      <td>₹709</td>\n",
       "      <td>64% off</td>\n",
       "    </tr>\n",
       "    <tr>\n",
       "      <th>100</th>\n",
       "      <td>IDEE</td>\n",
       "      <td>Others Retro Square Sunglasses (Free Size)</td>\n",
       "      <td>₹859</td>\n",
       "      <td>61% off</td>\n",
       "    </tr>\n",
       "  </tbody>\n",
       "</table>\n",
       "<p>101 rows × 4 columns</p>\n",
       "</div>"
      ],
      "text/plain": [
       "            Vendoer                                        Description Price  \\\n",
       "0    ROZZETTA CRAFT         UV Protection Round Sunglasses (Free Size)  ₹376   \n",
       "1         ROYAL SON     Polarized, UV Protection Round Sunglasses (52)  ₹709   \n",
       "2              SRPM             UV Protection Wayfarer Sunglasses (50)  ₹148   \n",
       "3            SUNBEE  UV Protection, Polarized Wayfarer Sunglasses (...  ₹203   \n",
       "4            PIRASO              UV Protection Aviator Sunglasses (54)  ₹179   \n",
       "..              ...                                                ...   ...   \n",
       "96             hipe  UV Protection, Riding Glasses Retro Square, Sp...  ₹159   \n",
       "97       Lee Topper   Polarized, UV Protection Aviator Sunglasses (64)  ₹231   \n",
       "98       Lee Topper              UV Protection Cat-eye Sunglasses (17)  ₹325   \n",
       "99        ROYAL SON      UV Protection Wayfarer Sunglasses (Free Size)  ₹709   \n",
       "100            IDEE         Others Retro Square Sunglasses (Free Size)  ₹859   \n",
       "\n",
       "    Discount  \n",
       "0    85% off  \n",
       "1    64% off  \n",
       "2    88% off  \n",
       "3    84% off  \n",
       "4    88% off  \n",
       "..       ...  \n",
       "96   84% off  \n",
       "97   82% off  \n",
       "98   74% off  \n",
       "99   64% off  \n",
       "100  61% off  \n",
       "\n",
       "[101 rows x 4 columns]"
      ]
     },
     "execution_count": 156,
     "metadata": {},
     "output_type": "execute_result"
    }
   ],
   "source": [
    "SunGlass"
   ]
  },
  {
   "cell_type": "markdown",
   "id": "8eeb7f45",
   "metadata": {},
   "source": [
    "### 6. Scrape data for first 100 sneakers you find when you visit flipkart.com andsearch for “sneakers” in thesearch field.You have to scrape 4 attributes of each sneaker:1. Brand 2. Product Description 3. Price\n"
   ]
  },
  {
   "cell_type": "code",
   "execution_count": 173,
   "id": "c14ea3bc",
   "metadata": {},
   "outputs": [],
   "source": [
    "driver=webdriver.Chrome(\"E:/chromedriver.exe\")"
   ]
  },
  {
   "cell_type": "code",
   "execution_count": 174,
   "id": "8d62d029",
   "metadata": {},
   "outputs": [],
   "source": [
    "url='https://www.flipkart.com/'\n",
    "driver.get(url)"
   ]
  },
  {
   "cell_type": "code",
   "execution_count": 175,
   "id": "e6c936fd",
   "metadata": {},
   "outputs": [
    {
     "data": {
      "text/plain": [
       "<selenium.webdriver.remote.webelement.WebElement (session=\"81b79e9621075fbfee28a8ea3ac5b944\", element=\"f80fa809-fb46-4adc-9a48-708a30bf6da5\")>"
      ]
     },
     "execution_count": 175,
     "metadata": {},
     "output_type": "execute_result"
    }
   ],
   "source": [
    "# finding the web elements for search job bar using id:\n",
    "search_product=driver.find_element_by_class_name(\"_3704LK\")\n",
    "search_product"
   ]
  },
  {
   "cell_type": "code",
   "execution_count": 176,
   "id": "a426688a",
   "metadata": {},
   "outputs": [],
   "source": [
    "#Write the WebElement:\n",
    "search_product.send_keys(\"sneakers\")"
   ]
  },
  {
   "cell_type": "code",
   "execution_count": 177,
   "id": "f076af11",
   "metadata": {},
   "outputs": [
    {
     "name": "stdout",
     "output_type": "stream",
     "text": [
      "[<selenium.webdriver.remote.webelement.WebElement (session=\"81b79e9621075fbfee28a8ea3ac5b944\", element=\"2ee0fc1e-f7ba-4485-8fbb-e05b22c81b33\")>, <selenium.webdriver.remote.webelement.WebElement (session=\"81b79e9621075fbfee28a8ea3ac5b944\", element=\"4a5211a8-11d0-452c-bf50-7aa11ddbcfd1\")>]\n",
      "[<selenium.webdriver.remote.webelement.WebElement (session=\"81b79e9621075fbfee28a8ea3ac5b944\", element=\"c2af98b3-ca37-49c2-a93a-e1709cc7d9b7\")>, <selenium.webdriver.remote.webelement.WebElement (session=\"81b79e9621075fbfee28a8ea3ac5b944\", element=\"3d2ec7b8-12a5-4ee7-ab0f-ff3e396c0d8e\")>]\n",
      "[<selenium.webdriver.remote.webelement.WebElement (session=\"81b79e9621075fbfee28a8ea3ac5b944\", element=\"a1be6025-91ef-4986-adc4-eddf70990207\")>, <selenium.webdriver.remote.webelement.WebElement (session=\"81b79e9621075fbfee28a8ea3ac5b944\", element=\"de158785-7e9c-438c-9b0c-b9b03e341602\")>]\n",
      "[<selenium.webdriver.remote.webelement.WebElement (session=\"81b79e9621075fbfee28a8ea3ac5b944\", element=\"33b2d780-5e51-4313-98b4-38d5a74027fd\")>, <selenium.webdriver.remote.webelement.WebElement (session=\"81b79e9621075fbfee28a8ea3ac5b944\", element=\"b01ba531-b8c4-4bfc-a351-3f1a885da5b7\")>]\n",
      "['RapidBox', 'PUMA']\n",
      "['Match Star Perf Sneakers For Men', 'Super Stylish & Trendy Combo Pack of 02 Pairs Sneakers ...']\n",
      "['₹580', '₹2,809']\n",
      "['41% off', '48% off']\n"
     ]
    }
   ],
   "source": [
    "#tagS:\n",
    "\n",
    "Dealer1_tag=driver.find_elements_by_xpath('//div[@class=\"_2WkVRV\"]')\n",
    "print(Dealer1_tag[0:2])\n",
    "Prodesc1_tag=driver.find_elements_by_xpath('//a[@class=\"IRpwTa\"]')\n",
    "print(Prodesc1_tag[0:2])\n",
    "Price1_tag=driver.find_elements_by_xpath('//div[@class=\"_30jeq3\"]')\n",
    "print(Price1_tag[0:2])\n",
    "Discount1_tag=driver.find_elements_by_xpath('//div[@class=\"_3Ay6Sb\"]')\n",
    "print(Discount1_tag[0:2])\n",
    "#extracting the names:\n",
    "\n",
    "Dealer1_name=[]\n",
    "Pro1_desc=[]\n",
    "Price1=[]\n",
    "Discount1=[]\n",
    "for i in Dealer1_tag:\n",
    "    Dealer1_name.append(i.text)\n",
    "for i in Prodesc1_tag:\n",
    "    Pro1_desc.append(i.text)\n",
    "for i in Price1_tag:\n",
    "    Price1.append(i.text)\n",
    "for i in Discount1_tag:\n",
    "    Discount1.append(i.text)\n",
    "print(Dealer1_name[0:2])\n",
    "print(Pro1_desc[0:2])    \n",
    "print(Price1[0:2])  \n",
    "print(Discount1[0:2])"
   ]
  },
  {
   "cell_type": "code",
   "execution_count": 178,
   "id": "41b71c2d",
   "metadata": {},
   "outputs": [
    {
     "data": {
      "text/plain": [
       "<selenium.webdriver.remote.webelement.WebElement (session=\"81b79e9621075fbfee28a8ea3ac5b944\", element=\"46f9eb1e-ca6a-44b3-9aae-56e0ffbb482b\")>"
      ]
     },
     "execution_count": 178,
     "metadata": {},
     "output_type": "execute_result"
    }
   ],
   "source": [
    "# Next botton extracting by xPath:\n",
    "Next_booton=driver.find_element_by_xpath('/html/body/div[1]/div/div[3]/div[1]/div[2]/div[12]/div/div/nav/a[11]')\n",
    "Next_booton"
   ]
  },
  {
   "cell_type": "code",
   "execution_count": 179,
   "id": "f51a8f83",
   "metadata": {},
   "outputs": [],
   "source": [
    "Next_booton.click()"
   ]
  },
  {
   "cell_type": "code",
   "execution_count": 184,
   "id": "fab3175a",
   "metadata": {},
   "outputs": [
    {
     "name": "stdout",
     "output_type": "stream",
     "text": [
      "['BRUTON', 'Chevit', 'SPARX', 'Kraasa', 'PUMA']\n",
      "['Comfortable & Ultra Light Weight Sneaker Sneakers For M...', \"Echor Men's Sneakers Fashion Lightweight Running Shoes ...\", 'Stylish & Trending Outdoor Walking Comfortable Sneakers...', 'Sneakers For Men', 'Unique & Perfect Collection Combo Pack of 02 Shoes for ...']\n",
      "['₹249', '₹209', '₹735', '₹444', '₹3,533']\n",
      "['73% off', '9% off', '55% off', '55% off', '60% off']\n"
     ]
    }
   ],
   "source": [
    "#Page2:\n",
    "\n",
    "Dealer1_tag=driver.find_elements_by_xpath('//div[@class=\"_2WkVRV\"]')\n",
    "\n",
    "Prodesc1_tag=driver.find_elements_by_xpath('//a[@class=\"IRpwTa\"]')\n",
    "\n",
    "Price1_tag=driver.find_elements_by_xpath('//div[@class=\"_30jeq3\"]')\n",
    "\n",
    "Discount1_tag=driver.find_elements_by_xpath('//div[@class=\"_3Ay6Sb\"]')\n",
    "\n",
    "#extracting the names:\n",
    "for i in Dealer1_tag:\n",
    "    Dealer1_name.append(i.text)\n",
    "for i in Prodesc1_tag:\n",
    "    Pro1_desc.append(i.text)\n",
    "for i in Price1_tag:\n",
    "    Price1.append(i.text)\n",
    "for i in Discount1_tag:\n",
    "    Discount1.append(i.text)\n",
    "print(Dealer1_name[75:80])\n",
    "print(Pro1_desc[75:80])    \n",
    "print(Price1[75:80])  \n",
    "print(Discount1[75:80])"
   ]
  },
  {
   "cell_type": "code",
   "execution_count": 181,
   "id": "324827c6",
   "metadata": {},
   "outputs": [],
   "source": [
    "Next_booton.click()"
   ]
  },
  {
   "cell_type": "code",
   "execution_count": 182,
   "id": "00f9d384",
   "metadata": {},
   "outputs": [
    {
     "name": "stdout",
     "output_type": "stream",
     "text": [
      "['Numenzo', 'RapidBox', 'Chevit', 'asics', 'PUMA', 'BIRDE', 'DUNKASTON', 'PUMA', 'Hot & Knot', 'BIRDE']\n",
      "['Shark-41 Sneakers For Men', 'Perfect & Affordable Combo Pack of 02 Pairs Sneakers Ou...', 'Dawn Sneakers Partywear Casual Couple Dating Fancy Shoe...', 'casual for men Sneakers For Men', 'sports shoes for men | Latest Stylish Casual sneakers f...', 'Sneakers For Men', 'casual sneaker shoes for men kardam&sons Sneakers For M...', 'Sneakers For Men', 'Sneakers For Men', 'BMW MMS Future Kart Cat Sneakers For Men']\n",
      "['₹379', '₹590', '₹348', '₹2,244', '₹1,377', '₹370', '₹309', '₹1,294', '₹539', '₹369']\n",
      "['40% off', '76% off', '50% off', '50% off', '62% off', '79% off', '63% off', '46% off', '63% off', '45% off']\n"
     ]
    }
   ],
   "source": [
    "#Page3:\n",
    "\n",
    "Dealer1_tag=driver.find_elements_by_xpath('//div[@class=\"_2WkVRV\"]')\n",
    "\n",
    "Prodesc1_tag=driver.find_elements_by_xpath('//a[@class=\"IRpwTa\"]')\n",
    "\n",
    "Price1_tag=driver.find_elements_by_xpath('//div[@class=\"_30jeq3\"]')\n",
    "\n",
    "Discount1_tag=driver.find_elements_by_xpath('//div[@class=\"_3Ay6Sb\"]')\n",
    "\n",
    "#extracting the names:\n",
    "for i in Dealer1_tag:\n",
    "    Dealer1_name.append(i.text)\n",
    "for i in Prodesc1_tag:\n",
    "    Pro1_desc.append(i.text)\n",
    "for i in Price1_tag:\n",
    "    Price1.append(i.text)\n",
    "for i in Discount1_tag:\n",
    "    Discount1.append(i.text)\n",
    "print(Dealer1_name[90:100])\n",
    "print(Pro1_desc[90:100])    \n",
    "print(Price1[90:100])  \n",
    "print(Discount1[90:100])"
   ]
  },
  {
   "cell_type": "code",
   "execution_count": 185,
   "id": "8657ffac",
   "metadata": {},
   "outputs": [
    {
     "data": {
      "text/plain": [
       "(160, 135, 160, 159)"
      ]
     },
     "execution_count": 185,
     "metadata": {},
     "output_type": "execute_result"
    }
   ],
   "source": [
    "len(Dealer1_name),len(Pro1_desc),len(Price1),len(Discount1)"
   ]
  },
  {
   "cell_type": "code",
   "execution_count": 187,
   "id": "328c6808",
   "metadata": {},
   "outputs": [],
   "source": [
    "#DataFrame:\n",
    "Sneakers=pd.DataFrame({\"Vendoer\":Dealer1_name[0:101],\"Description\":Pro1_desc[0:101],\"Price\":Price1[0:101],\"Discount\":Discount1[0:101]})"
   ]
  },
  {
   "cell_type": "code",
   "execution_count": 188,
   "id": "3f1c0202",
   "metadata": {},
   "outputs": [
    {
     "data": {
      "text/html": [
       "<div>\n",
       "<style scoped>\n",
       "    .dataframe tbody tr th:only-of-type {\n",
       "        vertical-align: middle;\n",
       "    }\n",
       "\n",
       "    .dataframe tbody tr th {\n",
       "        vertical-align: top;\n",
       "    }\n",
       "\n",
       "    .dataframe thead th {\n",
       "        text-align: right;\n",
       "    }\n",
       "</style>\n",
       "<table border=\"1\" class=\"dataframe\">\n",
       "  <thead>\n",
       "    <tr style=\"text-align: right;\">\n",
       "      <th></th>\n",
       "      <th>Vendoer</th>\n",
       "      <th>Description</th>\n",
       "      <th>Price</th>\n",
       "      <th>Discount</th>\n",
       "    </tr>\n",
       "  </thead>\n",
       "  <tbody>\n",
       "    <tr>\n",
       "      <th>0</th>\n",
       "      <td>RapidBox</td>\n",
       "      <td>Match Star Perf Sneakers For Men</td>\n",
       "      <td>₹580</td>\n",
       "      <td>41% off</td>\n",
       "    </tr>\n",
       "    <tr>\n",
       "      <th>1</th>\n",
       "      <td>PUMA</td>\n",
       "      <td>Super Stylish &amp; Trendy Combo Pack of 02 Pairs ...</td>\n",
       "      <td>₹2,809</td>\n",
       "      <td>48% off</td>\n",
       "    </tr>\n",
       "    <tr>\n",
       "      <th>2</th>\n",
       "      <td>Chevit</td>\n",
       "      <td>Sneakers For Men</td>\n",
       "      <td>₹469</td>\n",
       "      <td>70% off</td>\n",
       "    </tr>\n",
       "    <tr>\n",
       "      <th>3</th>\n",
       "      <td>Magnolia</td>\n",
       "      <td>5011-Latest Collection Stylish Casual Loafer S...</td>\n",
       "      <td>₹327</td>\n",
       "      <td>67% off</td>\n",
       "    </tr>\n",
       "    <tr>\n",
       "      <th>4</th>\n",
       "      <td>World Wear Footwear</td>\n",
       "      <td>Sneakers For Men</td>\n",
       "      <td>₹149</td>\n",
       "      <td>70% off</td>\n",
       "    </tr>\n",
       "    <tr>\n",
       "      <th>...</th>\n",
       "      <td>...</td>\n",
       "      <td>...</td>\n",
       "      <td>...</td>\n",
       "      <td>...</td>\n",
       "    </tr>\n",
       "    <tr>\n",
       "      <th>96</th>\n",
       "      <td>DUNKASTON</td>\n",
       "      <td>casual sneaker shoes for men kardam&amp;sons Sneak...</td>\n",
       "      <td>₹309</td>\n",
       "      <td>63% off</td>\n",
       "    </tr>\n",
       "    <tr>\n",
       "      <th>97</th>\n",
       "      <td>PUMA</td>\n",
       "      <td>Sneakers For Men</td>\n",
       "      <td>₹1,294</td>\n",
       "      <td>46% off</td>\n",
       "    </tr>\n",
       "    <tr>\n",
       "      <th>98</th>\n",
       "      <td>Hot &amp; Knot</td>\n",
       "      <td>Sneakers For Men</td>\n",
       "      <td>₹539</td>\n",
       "      <td>63% off</td>\n",
       "    </tr>\n",
       "    <tr>\n",
       "      <th>99</th>\n",
       "      <td>BIRDE</td>\n",
       "      <td>BMW MMS Future Kart Cat Sneakers For Men</td>\n",
       "      <td>₹369</td>\n",
       "      <td>45% off</td>\n",
       "    </tr>\n",
       "    <tr>\n",
       "      <th>100</th>\n",
       "      <td>Rzisbo</td>\n",
       "      <td>Stylish White Casual Sneakers shoes Men and Bo...</td>\n",
       "      <td>₹549</td>\n",
       "      <td>73% off</td>\n",
       "    </tr>\n",
       "  </tbody>\n",
       "</table>\n",
       "<p>101 rows × 4 columns</p>\n",
       "</div>"
      ],
      "text/plain": [
       "                 Vendoer                                        Description  \\\n",
       "0               RapidBox                   Match Star Perf Sneakers For Men   \n",
       "1                   PUMA  Super Stylish & Trendy Combo Pack of 02 Pairs ...   \n",
       "2                 Chevit                                   Sneakers For Men   \n",
       "3               Magnolia  5011-Latest Collection Stylish Casual Loafer S...   \n",
       "4    World Wear Footwear                                   Sneakers For Men   \n",
       "..                   ...                                                ...   \n",
       "96             DUNKASTON  casual sneaker shoes for men kardam&sons Sneak...   \n",
       "97                  PUMA                                   Sneakers For Men   \n",
       "98            Hot & Knot                                   Sneakers For Men   \n",
       "99                 BIRDE           BMW MMS Future Kart Cat Sneakers For Men   \n",
       "100               Rzisbo  Stylish White Casual Sneakers shoes Men and Bo...   \n",
       "\n",
       "      Price Discount  \n",
       "0      ₹580  41% off  \n",
       "1    ₹2,809  48% off  \n",
       "2      ₹469  70% off  \n",
       "3      ₹327  67% off  \n",
       "4      ₹149  70% off  \n",
       "..      ...      ...  \n",
       "96     ₹309  63% off  \n",
       "97   ₹1,294  46% off  \n",
       "98     ₹539  63% off  \n",
       "99     ₹369  45% off  \n",
       "100    ₹549  73% off  \n",
       "\n",
       "[101 rows x 4 columns]"
      ]
     },
     "execution_count": 188,
     "metadata": {},
     "output_type": "execute_result"
    }
   ],
   "source": [
    "Sneakers"
   ]
  },
  {
   "cell_type": "markdown",
   "id": "0f19efbf",
   "metadata": {},
   "source": [
    "### 7. Go to the link - https://www.myntra.com/shoes Set Price filter to “Rs. 7149 to Rs. 14099 ” , Color filter to “Black”, as shown inthe below image.And then scrape First 100 shoes data you get. The data should include “Brand” of the shoes , Short Shoedescription, price of the shoe as shown in the below image."
   ]
  },
  {
   "cell_type": "code",
   "execution_count": 28,
   "id": "49a47fee",
   "metadata": {},
   "outputs": [],
   "source": [
    "driver=webdriver.Chrome(\"E:/chromedriver.exe\")"
   ]
  },
  {
   "cell_type": "code",
   "execution_count": 29,
   "id": "b05227d5",
   "metadata": {},
   "outputs": [],
   "source": [
    "url='https://www.myntra.com/shoes/'\n",
    "driver.get(url)"
   ]
  },
  {
   "cell_type": "code",
   "execution_count": 30,
   "id": "a951f419",
   "metadata": {},
   "outputs": [
    {
     "data": {
      "text/plain": [
       "<selenium.webdriver.remote.webelement.WebElement (session=\"1b70dfc8ab232c17625b3852858d368c\", element=\"0a1d6be5-a42d-43f1-bdc7-d5121d419b2f\")>"
      ]
     },
     "execution_count": 30,
     "metadata": {},
     "output_type": "execute_result"
    }
   ],
   "source": [
    "#Price Filter:\n",
    "Price_Filter=driver.find_element_by_xpath(\"/html/body/div[2]/div/div[1]/main/div[3]/div[1]/section/div/div[5]/ul/li[2]/label/div\")\n",
    "Price_Filter"
   ]
  },
  {
   "cell_type": "code",
   "execution_count": 31,
   "id": "8d48bca3",
   "metadata": {},
   "outputs": [],
   "source": [
    "Price_Filter.click()"
   ]
  },
  {
   "cell_type": "code",
   "execution_count": 37,
   "id": "3ed8b371",
   "metadata": {},
   "outputs": [
    {
     "data": {
      "text/plain": [
       "<selenium.webdriver.remote.webelement.WebElement (session=\"a9d26cd33f10d0af18bf6870350272c3\", element=\"d8eb8469-9d67-408d-b4ee-0b72185efbfb\")>"
      ]
     },
     "execution_count": 37,
     "metadata": {},
     "output_type": "execute_result"
    }
   ],
   "source": [
    "#Color Filter:\n",
    "Color_Filter=driver.find_element_by_xpath(\"/html/body/div[2]/div/div[1]/main/div[3]/div[1]/section/div/div[6]/ul/li[1]/label/div\")\n",
    "Color_Filter"
   ]
  },
  {
   "cell_type": "code",
   "execution_count": 38,
   "id": "5eae9ff5",
   "metadata": {},
   "outputs": [],
   "source": [
    "Color_Filter.click()"
   ]
  },
  {
   "cell_type": "code",
   "execution_count": 54,
   "id": "aa61290c",
   "metadata": {},
   "outputs": [
    {
     "name": "stdout",
     "output_type": "stream",
     "text": [
      "[<selenium.webdriver.remote.webelement.WebElement (session=\"a9d26cd33f10d0af18bf6870350272c3\", element=\"80f7ba70-8033-4292-aaf4-708f4614a865\")>, <selenium.webdriver.remote.webelement.WebElement (session=\"a9d26cd33f10d0af18bf6870350272c3\", element=\"5c37a422-8bde-4c69-a42b-5aabb694e3fa\")>]\n",
      "[<selenium.webdriver.remote.webelement.WebElement (session=\"a9d26cd33f10d0af18bf6870350272c3\", element=\"26460d5e-22de-496b-8280-8858d1e9c1da\")>, <selenium.webdriver.remote.webelement.WebElement (session=\"a9d26cd33f10d0af18bf6870350272c3\", element=\"c0085339-d69a-4304-b8f0-4f68b6db792c\")>]\n",
      "[<selenium.webdriver.remote.webelement.WebElement (session=\"a9d26cd33f10d0af18bf6870350272c3\", element=\"81fd5486-2236-49c2-99c1-f3ff55cde695\")>, <selenium.webdriver.remote.webelement.WebElement (session=\"a9d26cd33f10d0af18bf6870350272c3\", element=\"b78ced01-41e3-4e5b-b494-402186cf07f0\")>]\n",
      "['New Balance', 'Columbia']\n",
      "['Women Woven Running Shoes', 'PEAKFREAK XCRSN Trekking Shoe']\n",
      "['Rs. 7149Rs. 12999(45% OFF)', 'Rs. 9999']\n"
     ]
    }
   ],
   "source": [
    "#Scrapping the Tags Page1:\n",
    "Brand_tag=driver.find_elements_by_xpath('//h3[@class=\"product-brand\"]')\n",
    "print(Brand_tag[0:2])\n",
    "Price_tag=driver.find_elements_by_xpath('//div[@class=\"product-price\"]')\n",
    "print(Price_tag[0:2])\n",
    "Des_tag=driver.find_elements_by_xpath('//h4[@class=\"product-product\"]')\n",
    "print(Des_tag[0:2])\n",
    "Brand_name=[]\n",
    "Price_details=[]\n",
    "Des_name=[]\n",
    "for i in Brand_tag:\n",
    "    Brand_name.append(i.text)\n",
    "for i in Des_tag:\n",
    "    Des_name.append(i.text)\n",
    "for i in Price_tag:\n",
    "    Price_details.append(i.text)\n",
    "print(Brand_name[0:2])\n",
    "print(Des_name[0:2])\n",
    "print(Price_details[0:2])"
   ]
  },
  {
   "cell_type": "code",
   "execution_count": 47,
   "id": "b2d9c883",
   "metadata": {},
   "outputs": [
    {
     "data": {
      "text/plain": [
       "<selenium.webdriver.remote.webelement.WebElement (session=\"a9d26cd33f10d0af18bf6870350272c3\", element=\"73b0bc73-b4bb-4968-a8d0-7dc843dedbf4\")>"
      ]
     },
     "execution_count": 47,
     "metadata": {},
     "output_type": "execute_result"
    }
   ],
   "source": [
    "# Next button Scrapping:\n",
    "Next_button=driver.find_element_by_xpath('/html/body/div[2]/div/div[1]/main/div[3]/div[2]/div/div[2]/section/div[2]/ul/li[12]')\n",
    "Next_button\n"
   ]
  },
  {
   "cell_type": "code",
   "execution_count": 48,
   "id": "c377a5d2",
   "metadata": {},
   "outputs": [],
   "source": [
    "Next_button.click()"
   ]
  },
  {
   "cell_type": "code",
   "execution_count": 56,
   "id": "9ee48078",
   "metadata": {},
   "outputs": [
    {
     "name": "stdout",
     "output_type": "stream",
     "text": [
      "['Saint G', 'Saint G', 'Saint G', 'Pavers England', 'Saint G']\n",
      "['Suede Party High-Top Block Heeled Boots', 'Suede High-Top Flatform Heeled Boots', 'Leather Boots with Buckles', 'Men Printed Loafers', 'High-Top Block Heeled Boots']\n",
      "['Rs. 8925Rs. 10500(15% OFF)', 'Rs. 11475Rs. 13500(15% OFF)', 'Rs. 8925Rs. 10500(15% OFF)', 'Rs. 11999', 'Rs. 10625Rs. 12500(15% OFF)']\n"
     ]
    }
   ],
   "source": [
    "#Page2:\n",
    "Brand_tag=driver.find_elements_by_xpath('//h3[@class=\"product-brand\"]')\n",
    "#print(Brand_tag[0:2])\n",
    "Price_tag=driver.find_elements_by_xpath('//div[@class=\"product-price\"]')\n",
    "#print(Price_tag[0:2])\n",
    "Des_tag=driver.find_elements_by_xpath('//h4[@class=\"product-product\"]')\n",
    "#print(Des_tag[0:2])\n",
    "#Brand_name=[]\n",
    "#Price_details=[]\n",
    "#Des_name=[]\n",
    "for i in Brand_tag:\n",
    "    Brand_name.append(i.text)\n",
    "for i in Des_tag:\n",
    "    Des_name.append(i.text)\n",
    "for i in Price_tag:\n",
    "    Price_details.append(i.text)\n",
    "print(Brand_name[45:50])\n",
    "print(Des_name[45:50])\n",
    "print(Price_details[45:50])"
   ]
  },
  {
   "cell_type": "code",
   "execution_count": 57,
   "id": "913ca2a7",
   "metadata": {},
   "outputs": [
    {
     "data": {
      "text/plain": [
       "(100, 100, 100)"
      ]
     },
     "execution_count": 57,
     "metadata": {},
     "output_type": "execute_result"
    }
   ],
   "source": [
    "len(Brand_name),len(Des_name),len(Price_details)"
   ]
  },
  {
   "cell_type": "code",
   "execution_count": 58,
   "id": "5e866dbc",
   "metadata": {},
   "outputs": [],
   "source": [
    "#Dataframe:\n",
    "Shoes=pd.DataFrame({\"Brand\":Brand_name,\"Description\":Des_name,\"Price\":Price_details})"
   ]
  },
  {
   "cell_type": "code",
   "execution_count": 59,
   "id": "bfb8799c",
   "metadata": {},
   "outputs": [
    {
     "data": {
      "text/html": [
       "<div>\n",
       "<style scoped>\n",
       "    .dataframe tbody tr th:only-of-type {\n",
       "        vertical-align: middle;\n",
       "    }\n",
       "\n",
       "    .dataframe tbody tr th {\n",
       "        vertical-align: top;\n",
       "    }\n",
       "\n",
       "    .dataframe thead th {\n",
       "        text-align: right;\n",
       "    }\n",
       "</style>\n",
       "<table border=\"1\" class=\"dataframe\">\n",
       "  <thead>\n",
       "    <tr style=\"text-align: right;\">\n",
       "      <th></th>\n",
       "      <th>Brand</th>\n",
       "      <th>Description</th>\n",
       "      <th>Price</th>\n",
       "    </tr>\n",
       "  </thead>\n",
       "  <tbody>\n",
       "    <tr>\n",
       "      <th>0</th>\n",
       "      <td>New Balance</td>\n",
       "      <td>Women Woven Running Shoes</td>\n",
       "      <td>Rs. 7149Rs. 12999(45% OFF)</td>\n",
       "    </tr>\n",
       "    <tr>\n",
       "      <th>1</th>\n",
       "      <td>Columbia</td>\n",
       "      <td>PEAKFREAK XCRSN Trekking Shoe</td>\n",
       "      <td>Rs. 9999</td>\n",
       "    </tr>\n",
       "    <tr>\n",
       "      <th>2</th>\n",
       "      <td>Columbia</td>\n",
       "      <td>Women REDMOND V2 TrekkingShoe</td>\n",
       "      <td>Rs. 7999</td>\n",
       "    </tr>\n",
       "    <tr>\n",
       "      <th>3</th>\n",
       "      <td>Columbia</td>\n",
       "      <td>PEAKFREAK OUTDRY Trekking Shoe</td>\n",
       "      <td>Rs. 9999</td>\n",
       "    </tr>\n",
       "    <tr>\n",
       "      <th>4</th>\n",
       "      <td>Geox</td>\n",
       "      <td>Men Leather Driving Shoes</td>\n",
       "      <td>Rs. 9499</td>\n",
       "    </tr>\n",
       "    <tr>\n",
       "      <th>...</th>\n",
       "      <td>...</td>\n",
       "      <td>...</td>\n",
       "      <td>...</td>\n",
       "    </tr>\n",
       "    <tr>\n",
       "      <th>95</th>\n",
       "      <td>Saint G</td>\n",
       "      <td>Suede Party High-Top Block Heeled Boots</td>\n",
       "      <td>Rs. 8925Rs. 10500(15% OFF)</td>\n",
       "    </tr>\n",
       "    <tr>\n",
       "      <th>96</th>\n",
       "      <td>Saint G</td>\n",
       "      <td>Suede High-Top Flatform Heeled Boots</td>\n",
       "      <td>Rs. 11475Rs. 13500(15% OFF)</td>\n",
       "    </tr>\n",
       "    <tr>\n",
       "      <th>97</th>\n",
       "      <td>Saint G</td>\n",
       "      <td>Leather Boots with Buckles</td>\n",
       "      <td>Rs. 8925Rs. 10500(15% OFF)</td>\n",
       "    </tr>\n",
       "    <tr>\n",
       "      <th>98</th>\n",
       "      <td>Pavers England</td>\n",
       "      <td>Men Printed Loafers</td>\n",
       "      <td>Rs. 11999</td>\n",
       "    </tr>\n",
       "    <tr>\n",
       "      <th>99</th>\n",
       "      <td>Saint G</td>\n",
       "      <td>High-Top Block Heeled Boots</td>\n",
       "      <td>Rs. 10625Rs. 12500(15% OFF)</td>\n",
       "    </tr>\n",
       "  </tbody>\n",
       "</table>\n",
       "<p>100 rows × 3 columns</p>\n",
       "</div>"
      ],
      "text/plain": [
       "             Brand                              Description  \\\n",
       "0      New Balance                Women Woven Running Shoes   \n",
       "1         Columbia            PEAKFREAK XCRSN Trekking Shoe   \n",
       "2         Columbia            Women REDMOND V2 TrekkingShoe   \n",
       "3         Columbia           PEAKFREAK OUTDRY Trekking Shoe   \n",
       "4             Geox                Men Leather Driving Shoes   \n",
       "..             ...                                      ...   \n",
       "95         Saint G  Suede Party High-Top Block Heeled Boots   \n",
       "96         Saint G     Suede High-Top Flatform Heeled Boots   \n",
       "97         Saint G               Leather Boots with Buckles   \n",
       "98  Pavers England                      Men Printed Loafers   \n",
       "99         Saint G              High-Top Block Heeled Boots   \n",
       "\n",
       "                          Price  \n",
       "0    Rs. 7149Rs. 12999(45% OFF)  \n",
       "1                      Rs. 9999  \n",
       "2                      Rs. 7999  \n",
       "3                      Rs. 9999  \n",
       "4                      Rs. 9499  \n",
       "..                          ...  \n",
       "95   Rs. 8925Rs. 10500(15% OFF)  \n",
       "96  Rs. 11475Rs. 13500(15% OFF)  \n",
       "97   Rs. 8925Rs. 10500(15% OFF)  \n",
       "98                    Rs. 11999  \n",
       "99  Rs. 10625Rs. 12500(15% OFF)  \n",
       "\n",
       "[100 rows x 3 columns]"
      ]
     },
     "execution_count": 59,
     "metadata": {},
     "output_type": "execute_result"
    }
   ],
   "source": [
    "Shoes"
   ]
  },
  {
   "cell_type": "markdown",
   "id": "042fcf96",
   "metadata": {},
   "source": [
    "### Q8: Go to webpage https://www.amazon.in/Enter “Laptop” in the search field and then click the search icon.Then set CPU Type filter to “Intel Core i7” and “Intel Core i9” and After setting the filters scrape first 10 laptops data. You have to scrape 3 attributesfor each laptop:1. Title 2. Ratings 3. Price\n"
   ]
  },
  {
   "cell_type": "code",
   "execution_count": 69,
   "id": "2b7db7b1",
   "metadata": {},
   "outputs": [],
   "source": [
    "driver=webdriver.Chrome(\"E:/chromedriver.exe\")"
   ]
  },
  {
   "cell_type": "code",
   "execution_count": 70,
   "id": "8ca13e82",
   "metadata": {},
   "outputs": [],
   "source": [
    "url='https://www.amazon.in/'\n",
    "driver.get(url)"
   ]
  },
  {
   "cell_type": "code",
   "execution_count": 71,
   "id": "4d721578",
   "metadata": {},
   "outputs": [
    {
     "data": {
      "text/plain": [
       "<selenium.webdriver.remote.webelement.WebElement (session=\"705bd679659006598299b4ece3fd68d7\", element=\"f5b0f64d-843a-4407-b80c-4d1a37ef2f2e\")>"
      ]
     },
     "execution_count": 71,
     "metadata": {},
     "output_type": "execute_result"
    }
   ],
   "source": [
    "#Scrapping the Search button:\n",
    "Search_bt=driver.find_element_by_xpath(\"/html/body/div[1]/header/div/div[1]/div[2]/div/form/div[2]/div[1]/input\")\n",
    "Search_bt"
   ]
  },
  {
   "cell_type": "code",
   "execution_count": 72,
   "id": "5bc130f4",
   "metadata": {},
   "outputs": [],
   "source": [
    "Search_bt.send_keys(\"Laptop\")"
   ]
  },
  {
   "cell_type": "code",
   "execution_count": 74,
   "id": "71454554",
   "metadata": {},
   "outputs": [],
   "source": [
    "# Flitering\n",
    "CPu_Filter=driver.find_element_by_xpath('/html/body/div[1]/div[2]/div[1]/div[2]/div/div[3]/span/div[1]/div/div/div[6]/ul[4]/li[11]/span/a/div')"
   ]
  },
  {
   "cell_type": "code",
   "execution_count": 75,
   "id": "20877196",
   "metadata": {},
   "outputs": [],
   "source": [
    "CPu_Filter.click()\n"
   ]
  },
  {
   "cell_type": "code",
   "execution_count": 76,
   "id": "ad99c05f",
   "metadata": {},
   "outputs": [],
   "source": [
    "#Tags\n",
    "Laptop_tag=driver.find_elements_by_xpath('//div[@class=\"a-section a-spacing-none s-padding-right-small s-title-instructions-style\"]')\n",
    "Rivew_tag=driver.find_elements_by_xpath('//div[@class=\"a-row a-size-small\"]')\n",
    "LapPrice_tag=driver.find_elements_by_xpath('//span[@class=\"a-price-whole\"]')"
   ]
  },
  {
   "cell_type": "code",
   "execution_count": 77,
   "id": "14a56588",
   "metadata": {
    "scrolled": true
   },
   "outputs": [
    {
     "name": "stdout",
     "output_type": "stream",
     "text": [
      "['Sponsored\\nMi Notebook Ultra 3.2K Resolution Display Intel Core i7-11370H 11th Gen 15.6-inch(39.62 cm) Thin and Light Laptop (16GB/512GB SSD/Iris Xe Graphic/Win 10/MS Office/Backlit KB/Fingerprint Sensor/1.7Kg)', 'Sponsored\\nLG Gram 16 Ultra-Light Intel Evo 11th Gen Core i7 16 inches Laptop (16 GB RAM, 512 GB SSD, Windows 10 Home, Iris Xe Graphics, Thunderbolt 4, USC -C x 2 (with Power), 1.19 kg, 16Z90P, Black)', 'Mi Notebook Ultra 3.2K Resolution Display Intel Core i7-11370H 11th Gen 15.6-inch(39.62 cm) Thin and Light Laptop (16GB/512GB SSD/Iris Xe Graphic/Win 10/MS Office/Backlit KB/Fingerprint Sensor/1.7Kg)', 'ASUS VivoBook 14 (2021), 14-inch (35.56 cms) FHD, Intel Core i7-1065G7 10th Gen, Thin and Light Laptop (16GB/512GB SSD/Integrated Graphics/Office 2021/Windows 11/Silver/1.6 Kg), X415JA-EK701WS', 'LG Gram 14 inches Ultra-Light Intel Evo 11th Gen Core i7 Laptop (16 GB RAM, 512 GB SSD, New Windows 11 Home Preload, Iris Xe Graphics, USC -C x 2 (with Power), 0.999Kg, (14Z90P-G.AH85A2, Black)']\n",
      "['901', '84', '901', '21', '84']\n",
      "['77,499', '85,990', '77,499', '57,490', '81,999']\n"
     ]
    }
   ],
   "source": [
    "# extrating the web elements:\n",
    "Latop=[]\n",
    "Review=[]\n",
    "Lap_price=[]\n",
    "for i in Laptop_tag:\n",
    "    Latop.append(i.text)\n",
    "for i in Rivew_tag:\n",
    "    Review.append(i.text)\n",
    "for i in LapPrice_tag:\n",
    "    Lap_price.append(i.text)\n",
    "print(Latop[0:5])\n",
    "print(Review[0:5])\n",
    "print(Lap_price[0:5])"
   ]
  },
  {
   "cell_type": "code",
   "execution_count": 81,
   "id": "6693c432",
   "metadata": {},
   "outputs": [
    {
     "data": {
      "text/plain": [
       "(30, 24, 30)"
      ]
     },
     "execution_count": 81,
     "metadata": {},
     "output_type": "execute_result"
    }
   ],
   "source": [
    "len(Latop),len(Review),len(Lap_price)"
   ]
  },
  {
   "cell_type": "code",
   "execution_count": 83,
   "id": "427b7f1b",
   "metadata": {},
   "outputs": [],
   "source": [
    "#DataFrame:\n",
    "Laptop=pd.DataFrame({\"Laptop\":Latop[0:11],\"Review\":Review[0:11],\"Price\":Lap_price[0:11]})"
   ]
  },
  {
   "cell_type": "code",
   "execution_count": 84,
   "id": "3cd53dcb",
   "metadata": {},
   "outputs": [
    {
     "data": {
      "text/html": [
       "<div>\n",
       "<style scoped>\n",
       "    .dataframe tbody tr th:only-of-type {\n",
       "        vertical-align: middle;\n",
       "    }\n",
       "\n",
       "    .dataframe tbody tr th {\n",
       "        vertical-align: top;\n",
       "    }\n",
       "\n",
       "    .dataframe thead th {\n",
       "        text-align: right;\n",
       "    }\n",
       "</style>\n",
       "<table border=\"1\" class=\"dataframe\">\n",
       "  <thead>\n",
       "    <tr style=\"text-align: right;\">\n",
       "      <th></th>\n",
       "      <th>Laptop</th>\n",
       "      <th>Review</th>\n",
       "      <th>Price</th>\n",
       "    </tr>\n",
       "  </thead>\n",
       "  <tbody>\n",
       "    <tr>\n",
       "      <th>0</th>\n",
       "      <td>Sponsored\\nMi Notebook Ultra 3.2K Resolution D...</td>\n",
       "      <td>901</td>\n",
       "      <td>77,499</td>\n",
       "    </tr>\n",
       "    <tr>\n",
       "      <th>1</th>\n",
       "      <td>Sponsored\\nLG Gram 16 Ultra-Light Intel Evo 11...</td>\n",
       "      <td>84</td>\n",
       "      <td>85,990</td>\n",
       "    </tr>\n",
       "    <tr>\n",
       "      <th>2</th>\n",
       "      <td>Mi Notebook Ultra 3.2K Resolution Display Inte...</td>\n",
       "      <td>901</td>\n",
       "      <td>77,499</td>\n",
       "    </tr>\n",
       "    <tr>\n",
       "      <th>3</th>\n",
       "      <td>ASUS VivoBook 14 (2021), 14-inch (35.56 cms) F...</td>\n",
       "      <td>21</td>\n",
       "      <td>57,490</td>\n",
       "    </tr>\n",
       "    <tr>\n",
       "      <th>4</th>\n",
       "      <td>LG Gram 14 inches Ultra-Light Intel Evo 11th G...</td>\n",
       "      <td>84</td>\n",
       "      <td>81,999</td>\n",
       "    </tr>\n",
       "    <tr>\n",
       "      <th>5</th>\n",
       "      <td>ASUS TUF Gaming F15 (2021), 15.6\" (39.62 cms) ...</td>\n",
       "      <td>3</td>\n",
       "      <td>89,990</td>\n",
       "    </tr>\n",
       "    <tr>\n",
       "      <th>6</th>\n",
       "      <td>Lenovo ThinkBook 13s Intel 11th Gen Core i7 13...</td>\n",
       "      <td>47</td>\n",
       "      <td>89,990</td>\n",
       "    </tr>\n",
       "    <tr>\n",
       "      <th>7</th>\n",
       "      <td>Lenovo Yoga 7 11th Gen Intel Core i7 14\"(35.56...</td>\n",
       "      <td>52</td>\n",
       "      <td>95,990</td>\n",
       "    </tr>\n",
       "    <tr>\n",
       "      <th>8</th>\n",
       "      <td>Lenovo ThinkBook Yoga 14s Intel Core i7 11th G...</td>\n",
       "      <td>9</td>\n",
       "      <td>87,990</td>\n",
       "    </tr>\n",
       "    <tr>\n",
       "      <th>9</th>\n",
       "      <td>ASUS TUF Gaming F17 (2022), 17.3-inch (43.94 c...</td>\n",
       "      <td>140</td>\n",
       "      <td>1,35,990</td>\n",
       "    </tr>\n",
       "    <tr>\n",
       "      <th>10</th>\n",
       "      <td>LG Gram Intel Evo 11th Gen Core i7 17 inches U...</td>\n",
       "      <td>75</td>\n",
       "      <td>96,999</td>\n",
       "    </tr>\n",
       "  </tbody>\n",
       "</table>\n",
       "</div>"
      ],
      "text/plain": [
       "                                               Laptop Review     Price\n",
       "0   Sponsored\\nMi Notebook Ultra 3.2K Resolution D...    901    77,499\n",
       "1   Sponsored\\nLG Gram 16 Ultra-Light Intel Evo 11...     84    85,990\n",
       "2   Mi Notebook Ultra 3.2K Resolution Display Inte...    901    77,499\n",
       "3   ASUS VivoBook 14 (2021), 14-inch (35.56 cms) F...     21    57,490\n",
       "4   LG Gram 14 inches Ultra-Light Intel Evo 11th G...     84    81,999\n",
       "5   ASUS TUF Gaming F15 (2021), 15.6\" (39.62 cms) ...      3    89,990\n",
       "6   Lenovo ThinkBook 13s Intel 11th Gen Core i7 13...     47    89,990\n",
       "7   Lenovo Yoga 7 11th Gen Intel Core i7 14\"(35.56...     52    95,990\n",
       "8   Lenovo ThinkBook Yoga 14s Intel Core i7 11th G...      9    87,990\n",
       "9   ASUS TUF Gaming F17 (2022), 17.3-inch (43.94 c...    140  1,35,990\n",
       "10  LG Gram Intel Evo 11th Gen Core i7 17 inches U...     75    96,999"
      ]
     },
     "execution_count": 84,
     "metadata": {},
     "output_type": "execute_result"
    }
   ],
   "source": [
    "Laptop"
   ]
  },
  {
   "cell_type": "markdown",
   "id": "7191178b",
   "metadata": {},
   "source": [
    "### 10 Write a python program to scrape data for first 10 job results for Data Scientist Designation in Noida location. You have to scrape company name, No. of days ago when job was posted, Rating of the company."
   ]
  },
  {
   "cell_type": "code",
   "execution_count": 85,
   "id": "e04f6730",
   "metadata": {},
   "outputs": [],
   "source": [
    "driver=webdriver.Chrome(\"E:/chromedriver.exe\")"
   ]
  },
  {
   "cell_type": "code",
   "execution_count": 86,
   "id": "c69f9c3b",
   "metadata": {},
   "outputs": [],
   "source": [
    "url='https://www.ambitionbox.com/'\n",
    "driver.get(url)"
   ]
  },
  {
   "cell_type": "code",
   "execution_count": 92,
   "id": "b1d7c1e9",
   "metadata": {},
   "outputs": [],
   "source": [
    "Job_tab=driver.find_element_by_xpath('//a[@href=\"/jobs\"]')"
   ]
  },
  {
   "cell_type": "code",
   "execution_count": 93,
   "id": "a1d74072",
   "metadata": {},
   "outputs": [],
   "source": [
    "Job_tab.click()"
   ]
  },
  {
   "cell_type": "code",
   "execution_count": 94,
   "id": "f7e94cac",
   "metadata": {},
   "outputs": [],
   "source": [
    "#Search Tab:\n",
    "Search_job=driver.find_element_by_xpath(\"/html/body/div/div/div/div[2]/div[1]/div/div/div/div/span/input\")"
   ]
  },
  {
   "cell_type": "code",
   "execution_count": 95,
   "id": "eb8fe410",
   "metadata": {},
   "outputs": [],
   "source": [
    "Search_job.send_keys(\"Data Scientist\")"
   ]
  },
  {
   "cell_type": "code",
   "execution_count": 96,
   "id": "1fe2b36b",
   "metadata": {},
   "outputs": [],
   "source": [
    "Search_bt=driver.find_element_by_xpath('//button[@class=\"ab_btn search-btn round\"]')"
   ]
  },
  {
   "cell_type": "code",
   "execution_count": 97,
   "id": "6ddb9cef",
   "metadata": {},
   "outputs": [],
   "source": [
    "Search_bt.click()"
   ]
  },
  {
   "cell_type": "code",
   "execution_count": 119,
   "id": "7ba87286",
   "metadata": {},
   "outputs": [
    {
     "name": "stdout",
     "output_type": "stream",
     "text": [
      "[<selenium.webdriver.remote.webelement.WebElement (session=\"a515189d57df3dab9eb8ce3e5dd35af2\", element=\"18f464f4-1d3c-4ddd-a02a-d6fd5b53fde9\")>, <selenium.webdriver.remote.webelement.WebElement (session=\"a515189d57df3dab9eb8ce3e5dd35af2\", element=\"a2616aba-e799-4750-a681-3f5a90f17725\")>]\n",
      "[<selenium.webdriver.remote.webelement.WebElement (session=\"a515189d57df3dab9eb8ce3e5dd35af2\", element=\"8f88d86c-2642-4d4f-860b-f881187915a0\")>, <selenium.webdriver.remote.webelement.WebElement (session=\"a515189d57df3dab9eb8ce3e5dd35af2\", element=\"3b5b4297-c36a-41f8-8d8c-58fa26462079\")>]\n",
      "[<selenium.webdriver.remote.webelement.WebElement (session=\"a515189d57df3dab9eb8ce3e5dd35af2\", element=\"5e2fb45a-8e81-4647-830c-f3b4ee8be28f\")>, <selenium.webdriver.remote.webelement.WebElement (session=\"a515189d57df3dab9eb8ce3e5dd35af2\", element=\"099a4e5d-5992-49bd-b8b9-d537a44fbf84\")>]\n"
     ]
    }
   ],
   "source": [
    "#Tags:\n",
    "Company_tag=driver.find_elements_by_xpath('//p[@class=\"company body-medium\"]')\n",
    "print(Company_tag[0:2])\n",
    "Rating_tag=driver.find_elements_by_xpath('//a[@class=\"rating rating-35\"]')\n",
    "print(Rating_tag[0:2])\n",
    "Days_tag=driver.find_elements_by_xpath('//span[@class=\"body-small-l\"]')\n",
    "print(Days_tag[0:2])"
   ]
  },
  {
   "cell_type": "code",
   "execution_count": 120,
   "id": "87d0c4ab",
   "metadata": {},
   "outputs": [
    {
     "name": "stdout",
     "output_type": "stream",
     "text": [
      "['NTT DATA GLOBAL DELIVERY SERVICES PRIVATE LIMITED', 'HCL Technologies Limited', 'Optum Global Solutions (India) Private Limited', 'WSP CONSULTANTS INDIA PRIVATE LIMITED', 'Microsoft India (R and D) Pvt Ltd']\n",
      "['3.9', '3.9', '3.8', '3.8', '3.9']\n",
      "['7d ago', 'via naukri.com', '9d ago', 'via naukri.com', '19d ago']\n"
     ]
    }
   ],
   "source": [
    "# Extracting the element:\n",
    "Company_name=[]\n",
    "Ratings=[]\n",
    "Days=[]\n",
    "for i in Company_tag:\n",
    "    Company_name.append(i.text)\n",
    "for i in Rating_tag:\n",
    "    Ratings.append(i.text)\n",
    "for i in Days_tag:\n",
    "    Days.append(i.text)\n",
    "print(Company_name[0:5])\n",
    "print(Ratings[0:5])\n",
    "print(Days[0:5])"
   ]
  },
  {
   "cell_type": "code",
   "execution_count": 124,
   "id": "ceefa48a",
   "metadata": {},
   "outputs": [
    {
     "data": {
      "text/plain": [
       "(10, 10, 20)"
      ]
     },
     "execution_count": 124,
     "metadata": {},
     "output_type": "execute_result"
    }
   ],
   "source": [
    "len(Company_name),len(Ratings),len(Days)"
   ]
  },
  {
   "cell_type": "code",
   "execution_count": 123,
   "id": "89e03458",
   "metadata": {},
   "outputs": [],
   "source": [
    "Ratings.append(4.0)"
   ]
  },
  {
   "cell_type": "code",
   "execution_count": 127,
   "id": "81931f50",
   "metadata": {},
   "outputs": [],
   "source": [
    "#DataFrame:\n",
    "Jobs_ds=pd.DataFrame({\"Company\":Company_name[0:10],\"Ratings\":Ratings[0:10],\"Posting_days\":Days[0:10]})"
   ]
  },
  {
   "cell_type": "code",
   "execution_count": 128,
   "id": "46107193",
   "metadata": {},
   "outputs": [
    {
     "data": {
      "text/html": [
       "<div>\n",
       "<style scoped>\n",
       "    .dataframe tbody tr th:only-of-type {\n",
       "        vertical-align: middle;\n",
       "    }\n",
       "\n",
       "    .dataframe tbody tr th {\n",
       "        vertical-align: top;\n",
       "    }\n",
       "\n",
       "    .dataframe thead th {\n",
       "        text-align: right;\n",
       "    }\n",
       "</style>\n",
       "<table border=\"1\" class=\"dataframe\">\n",
       "  <thead>\n",
       "    <tr style=\"text-align: right;\">\n",
       "      <th></th>\n",
       "      <th>Company</th>\n",
       "      <th>Ratings</th>\n",
       "      <th>Posting_days</th>\n",
       "    </tr>\n",
       "  </thead>\n",
       "  <tbody>\n",
       "    <tr>\n",
       "      <th>0</th>\n",
       "      <td>NTT DATA GLOBAL DELIVERY SERVICES PRIVATE LIMITED</td>\n",
       "      <td>3.9</td>\n",
       "      <td>7d ago</td>\n",
       "    </tr>\n",
       "    <tr>\n",
       "      <th>1</th>\n",
       "      <td>HCL Technologies Limited</td>\n",
       "      <td>3.9</td>\n",
       "      <td>via naukri.com</td>\n",
       "    </tr>\n",
       "    <tr>\n",
       "      <th>2</th>\n",
       "      <td>Optum Global Solutions (India) Private Limited</td>\n",
       "      <td>3.8</td>\n",
       "      <td>9d ago</td>\n",
       "    </tr>\n",
       "    <tr>\n",
       "      <th>3</th>\n",
       "      <td>WSP CONSULTANTS INDIA PRIVATE LIMITED</td>\n",
       "      <td>3.8</td>\n",
       "      <td>via naukri.com</td>\n",
       "    </tr>\n",
       "    <tr>\n",
       "      <th>4</th>\n",
       "      <td>Microsoft India (R and D) Pvt Ltd</td>\n",
       "      <td>3.9</td>\n",
       "      <td>19d ago</td>\n",
       "    </tr>\n",
       "    <tr>\n",
       "      <th>5</th>\n",
       "      <td>HCL Technologies Ltd</td>\n",
       "      <td>3.8</td>\n",
       "      <td>via naukri.com</td>\n",
       "    </tr>\n",
       "    <tr>\n",
       "      <th>6</th>\n",
       "      <td>Jubilant Foodworks Limited</td>\n",
       "      <td>3.8</td>\n",
       "      <td>9d ago</td>\n",
       "    </tr>\n",
       "    <tr>\n",
       "      <th>7</th>\n",
       "      <td>HCL Technologies</td>\n",
       "      <td>3.7</td>\n",
       "      <td>via naukri.com</td>\n",
       "    </tr>\n",
       "    <tr>\n",
       "      <th>8</th>\n",
       "      <td>RATEGAIN TRAVEL TECHNOLOGIES LIMITED</td>\n",
       "      <td>4.0</td>\n",
       "      <td>20d ago</td>\n",
       "    </tr>\n",
       "    <tr>\n",
       "      <th>9</th>\n",
       "      <td>Hanu Software Solutions Pvt Ltd</td>\n",
       "      <td>4.0</td>\n",
       "      <td>via naukri.com</td>\n",
       "    </tr>\n",
       "  </tbody>\n",
       "</table>\n",
       "</div>"
      ],
      "text/plain": [
       "                                             Company Ratings    Posting_days\n",
       "0  NTT DATA GLOBAL DELIVERY SERVICES PRIVATE LIMITED     3.9          7d ago\n",
       "1                           HCL Technologies Limited     3.9  via naukri.com\n",
       "2     Optum Global Solutions (India) Private Limited     3.8          9d ago\n",
       "3              WSP CONSULTANTS INDIA PRIVATE LIMITED     3.8  via naukri.com\n",
       "4                  Microsoft India (R and D) Pvt Ltd     3.9         19d ago\n",
       "5                               HCL Technologies Ltd     3.8  via naukri.com\n",
       "6                         Jubilant Foodworks Limited     3.8          9d ago\n",
       "7                                   HCL Technologies     3.7  via naukri.com\n",
       "8               RATEGAIN TRAVEL TECHNOLOGIES LIMITED     4.0         20d ago\n",
       "9                    Hanu Software Solutions Pvt Ltd     4.0  via naukri.com"
      ]
     },
     "execution_count": 128,
     "metadata": {},
     "output_type": "execute_result"
    }
   ],
   "source": [
    "Jobs_ds"
   ]
  },
  {
   "cell_type": "markdown",
   "id": "1eb63005",
   "metadata": {},
   "source": [
    "### Q10: Write a python program to scrape the salary data for Data Scientist designation.You have to scrape Company name, Number of salaries, Average salary, Minsalary, Max Salary"
   ]
  },
  {
   "cell_type": "code",
   "execution_count": 129,
   "id": "5dc872fa",
   "metadata": {},
   "outputs": [],
   "source": [
    "driver=webdriver.Chrome(\"E:/chromedriver.exe\")"
   ]
  },
  {
   "cell_type": "code",
   "execution_count": 130,
   "id": "523b2441",
   "metadata": {},
   "outputs": [],
   "source": [
    "url='https://www.ambitionbox.com/'\n",
    "driver.get(url)"
   ]
  },
  {
   "cell_type": "code",
   "execution_count": 131,
   "id": "9b7b6956",
   "metadata": {},
   "outputs": [],
   "source": [
    "Sal_tab=driver.find_element_by_xpath('//a[@href=\"https://www.ambitionbox.com/salaries\"]')"
   ]
  },
  {
   "cell_type": "code",
   "execution_count": 132,
   "id": "efb9f8b3",
   "metadata": {},
   "outputs": [],
   "source": [
    "Sal_tab.click()"
   ]
  },
  {
   "cell_type": "code",
   "execution_count": 133,
   "id": "8c5d8a48",
   "metadata": {},
   "outputs": [],
   "source": [
    "#search tag:\n",
    "se_tab=driver.find_element_by_xpath('/html/body/div/div/div/main/section[1]/div[2]/div[1]/span/input')"
   ]
  },
  {
   "cell_type": "code",
   "execution_count": 134,
   "id": "627d63e5",
   "metadata": {},
   "outputs": [],
   "source": [
    "se_tab.send_keys(\"Data Scientist\")"
   ]
  },
  {
   "cell_type": "code",
   "execution_count": 136,
   "id": "7f477572",
   "metadata": {},
   "outputs": [],
   "source": [
    "se_tab.click()"
   ]
  },
  {
   "cell_type": "code",
   "execution_count": 137,
   "id": "25f250ab",
   "metadata": {},
   "outputs": [],
   "source": [
    "comp_tag=driver.find_elements_by_xpath('//div[@class=\"name\"]')"
   ]
  },
  {
   "cell_type": "code",
   "execution_count": 170,
   "id": "f6174f53",
   "metadata": {},
   "outputs": [],
   "source": [
    "comp_d=[]\n",
    "for i in comp_tag:\n",
    "    comp_d.append(i.text.split('\\n'))"
   ]
  },
  {
   "cell_type": "code",
   "execution_count": 171,
   "id": "e61706ed",
   "metadata": {},
   "outputs": [
    {
     "data": {
      "text/plain": [
       "[['Ab Inbev', 'based on 28 salaries'],\n",
       " ['ZS', 'based on 15 salaries'],\n",
       " ['Optum', 'based on 25 salaries'],\n",
       " ['Fractal Analytics', 'based on 77 salaries'],\n",
       " ['Tiger Analytics', 'based on 33 salaries'],\n",
       " ['UnitedHealth', 'based on 52 salaries'],\n",
       " ['Verizon', 'based on 14 salaries'],\n",
       " ['Ganit Business Solutions', 'based on 13 salaries'],\n",
       " ['Ericsson', 'based on 43 salaries'],\n",
       " ['Deloitte', 'based on 57 salaries']]"
      ]
     },
     "execution_count": 171,
     "metadata": {},
     "output_type": "execute_result"
    }
   ],
   "source": [
    "comp_d"
   ]
  },
  {
   "cell_type": "code",
   "execution_count": 174,
   "id": "aeac9959",
   "metadata": {},
   "outputs": [
    {
     "data": {
      "text/plain": [
       "[<selenium.webdriver.remote.webelement.WebElement (session=\"f3bd393cf81e152a4216a2b6c7d3ed00\", element=\"0ff14a05-fd70-4ff6-aefe-b6ffb83f965b\")>,\n",
       " <selenium.webdriver.remote.webelement.WebElement (session=\"f3bd393cf81e152a4216a2b6c7d3ed00\", element=\"4c466bbc-c67a-4923-bc30-66439ed087bd\")>]"
      ]
     },
     "execution_count": 174,
     "metadata": {},
     "output_type": "execute_result"
    }
   ],
   "source": [
    "Jobss_tag=driver.find_elements_by_xpath('//div[@class=\"salaries sbold-list-header\"]')\n",
    "Jobss_tag[0:2]"
   ]
  },
  {
   "cell_type": "code",
   "execution_count": 177,
   "id": "5c7b2572",
   "metadata": {},
   "outputs": [],
   "source": [
    "JD=[]\n",
    "for i in Jobss_tag:\n",
    "    JD.append(i.text.split('.'))"
   ]
  },
  {
   "cell_type": "code",
   "execution_count": 188,
   "id": "37067723",
   "metadata": {},
   "outputs": [
    {
     "data": {
      "text/plain": [
       "[['Data Scientist\\n ', ' \\n3-4 yrs exp'],\n",
       " ['Data Scientist\\n ', ' \\n2 yrs exp'],\n",
       " ['Data Scientist\\n ', ' \\n3-4 yrs exp'],\n",
       " ['Data Scientist\\n ', ' \\n2-4 yrs exp'],\n",
       " ['Data Scientist\\n ', ' \\n3-4 yrs exp'],\n",
       " ['Data Scientist\\n ', ' \\n2-4 yrs exp'],\n",
       " ['Data Scientist\\n ', ' \\n4 yrs exp'],\n",
       " ['Data Scientist\\n ', ' \\n4 yrs exp'],\n",
       " ['Data Scientist\\n ', ' \\n3-4 yrs exp'],\n",
       " ['Data Scientist\\n ', ' \\n2-4 yrs exp']]"
      ]
     },
     "execution_count": 188,
     "metadata": {},
     "output_type": "execute_result"
    }
   ],
   "source": [
    "JD"
   ]
  },
  {
   "cell_type": "code",
   "execution_count": 189,
   "id": "e3880304",
   "metadata": {},
   "outputs": [],
   "source": [
    "#Salary_min:\n",
    "Sal_min=driver.find_elements_by_xpath('//div[@class=\"value body-medium\"]')"
   ]
  },
  {
   "cell_type": "code",
   "execution_count": 191,
   "id": "61c3c9f9",
   "metadata": {},
   "outputs": [
    {
     "data": {
      "text/plain": [
       "['₹ 15.0L',\n",
       " '₹ 25.5L',\n",
       " '₹ 9.5L',\n",
       " '₹ 20.0L',\n",
       " '₹ 11.0L',\n",
       " '₹ 21.3L',\n",
       " '₹ 9.5L',\n",
       " '₹ 22.0L',\n",
       " '₹ 8.3L',\n",
       " '₹ 20.0L',\n",
       " '₹ 8.3L',\n",
       " '₹ 20.5L',\n",
       " '₹ 10.0L',\n",
       " '₹ 21.0L',\n",
       " '₹ 8.5L',\n",
       " '₹ 15.0L',\n",
       " '₹ 5.8L',\n",
       " '₹ 24.0L',\n",
       " '₹ 6.9L',\n",
       " '₹ 23.4L']"
      ]
     },
     "execution_count": 191,
     "metadata": {},
     "output_type": "execute_result"
    }
   ],
   "source": [
    "min_sal=[]\n",
    "for i in Sal_min:\n",
    "    min_sal.append(i.text)\n",
    "min_sal   "
   ]
  },
  {
   "cell_type": "code",
   "execution_count": 192,
   "id": "ff091721",
   "metadata": {},
   "outputs": [],
   "source": [
    "#Avg_sal:\n",
    "Sal_Avg=driver.find_elements_by_xpath('//p[@class=\"averageCtc\"]')"
   ]
  },
  {
   "cell_type": "code",
   "execution_count": 193,
   "id": "b6c50813",
   "metadata": {},
   "outputs": [
    {
     "data": {
      "text/plain": [
       "['₹ 20.3L',\n",
       " '₹ 15.3L',\n",
       " '₹ 15.1L',\n",
       " '₹ 15.1L',\n",
       " '₹ 14.4L',\n",
       " '₹ 13.9L',\n",
       " '₹ 12.7L',\n",
       " '₹ 12.4L',\n",
       " '₹ 11.9L',\n",
       " '₹ 11.7L']"
      ]
     },
     "execution_count": 193,
     "metadata": {},
     "output_type": "execute_result"
    }
   ],
   "source": [
    "avg_sal=[]\n",
    "for i in Sal_Avg:\n",
    "    avg_sal.append(i.text)\n",
    "avg_sal"
   ]
  },
  {
   "cell_type": "code",
   "execution_count": 199,
   "id": "844f3420",
   "metadata": {},
   "outputs": [
    {
     "data": {
      "text/plain": [
       "[<selenium.webdriver.remote.webelement.WebElement (session=\"f3bd393cf81e152a4216a2b6c7d3ed00\", element=\"8dd8c452-ab80-4cec-ac82-f563be8c0f5f\")>,\n",
       " <selenium.webdriver.remote.webelement.WebElement (session=\"f3bd393cf81e152a4216a2b6c7d3ed00\", element=\"ed574f27-5bd5-4482-a9d5-2e8dad689d35\")>]"
      ]
     },
     "execution_count": 199,
     "metadata": {},
     "output_type": "execute_result"
    }
   ],
   "source": [
    "#Max Sal:\n",
    "Sal_Max=driver.find_elements_by_xpath('//div[@class=\"value body-medium\"]')\n",
    "Sal_Max[0:2]"
   ]
  },
  {
   "cell_type": "code",
   "execution_count": 200,
   "id": "48bd24f5",
   "metadata": {},
   "outputs": [
    {
     "data": {
      "text/plain": [
       "['₹ 15.0L',\n",
       " '₹ 25.5L',\n",
       " '₹ 9.5L',\n",
       " '₹ 20.0L',\n",
       " '₹ 11.0L',\n",
       " '₹ 21.3L',\n",
       " '₹ 9.5L',\n",
       " '₹ 22.0L',\n",
       " '₹ 8.3L',\n",
       " '₹ 20.0L',\n",
       " '₹ 8.3L',\n",
       " '₹ 20.5L',\n",
       " '₹ 10.0L',\n",
       " '₹ 21.0L',\n",
       " '₹ 8.5L',\n",
       " '₹ 15.0L',\n",
       " '₹ 5.8L',\n",
       " '₹ 24.0L',\n",
       " '₹ 6.9L',\n",
       " '₹ 23.4L']"
      ]
     },
     "execution_count": 200,
     "metadata": {},
     "output_type": "execute_result"
    }
   ],
   "source": [
    "max_sal=[]\n",
    "for i in Sal_Max:\n",
    "    max_sal.append(i.text)\n",
    "max_sal"
   ]
  },
  {
   "cell_type": "code",
   "execution_count": 202,
   "id": "d65a7a12",
   "metadata": {},
   "outputs": [
    {
     "data": {
      "text/plain": [
       "(10, 10, 20, 10, 20)"
      ]
     },
     "execution_count": 202,
     "metadata": {},
     "output_type": "execute_result"
    }
   ],
   "source": [
    "len(comp_d),len(JD),len(min_sal),len(avg_sal),len(max_sal)"
   ]
  },
  {
   "cell_type": "code",
   "execution_count": 203,
   "id": "1d3ddb63",
   "metadata": {},
   "outputs": [],
   "source": [
    "#DataFrame:\n",
    "Salary_deatils=pd.DataFrame({\"CompanyDetails\":comp_d,\"JobDetails\":JD,\"Min_Salray\":min_sal[0:10],\"Avg_Salary\":avg_sal,\"Max_Salary\":max_sal[0:10]})"
   ]
  },
  {
   "cell_type": "code",
   "execution_count": 204,
   "id": "4f936469",
   "metadata": {},
   "outputs": [
    {
     "data": {
      "text/html": [
       "<div>\n",
       "<style scoped>\n",
       "    .dataframe tbody tr th:only-of-type {\n",
       "        vertical-align: middle;\n",
       "    }\n",
       "\n",
       "    .dataframe tbody tr th {\n",
       "        vertical-align: top;\n",
       "    }\n",
       "\n",
       "    .dataframe thead th {\n",
       "        text-align: right;\n",
       "    }\n",
       "</style>\n",
       "<table border=\"1\" class=\"dataframe\">\n",
       "  <thead>\n",
       "    <tr style=\"text-align: right;\">\n",
       "      <th></th>\n",
       "      <th>CompanyDetails</th>\n",
       "      <th>JobDetails</th>\n",
       "      <th>Min_Salray</th>\n",
       "      <th>Avg_Salary</th>\n",
       "      <th>Max_Salary</th>\n",
       "    </tr>\n",
       "  </thead>\n",
       "  <tbody>\n",
       "    <tr>\n",
       "      <th>0</th>\n",
       "      <td>[Ab Inbev, based on 28 salaries]</td>\n",
       "      <td>[Data Scientist\\n ,  \\n3-4 yrs exp]</td>\n",
       "      <td>₹ 15.0L</td>\n",
       "      <td>₹ 20.3L</td>\n",
       "      <td>₹ 15.0L</td>\n",
       "    </tr>\n",
       "    <tr>\n",
       "      <th>1</th>\n",
       "      <td>[ZS, based on 15 salaries]</td>\n",
       "      <td>[Data Scientist\\n ,  \\n2 yrs exp]</td>\n",
       "      <td>₹ 25.5L</td>\n",
       "      <td>₹ 15.3L</td>\n",
       "      <td>₹ 25.5L</td>\n",
       "    </tr>\n",
       "    <tr>\n",
       "      <th>2</th>\n",
       "      <td>[Optum, based on 25 salaries]</td>\n",
       "      <td>[Data Scientist\\n ,  \\n3-4 yrs exp]</td>\n",
       "      <td>₹ 9.5L</td>\n",
       "      <td>₹ 15.1L</td>\n",
       "      <td>₹ 9.5L</td>\n",
       "    </tr>\n",
       "    <tr>\n",
       "      <th>3</th>\n",
       "      <td>[Fractal Analytics, based on 77 salaries]</td>\n",
       "      <td>[Data Scientist\\n ,  \\n2-4 yrs exp]</td>\n",
       "      <td>₹ 20.0L</td>\n",
       "      <td>₹ 15.1L</td>\n",
       "      <td>₹ 20.0L</td>\n",
       "    </tr>\n",
       "    <tr>\n",
       "      <th>4</th>\n",
       "      <td>[Tiger Analytics, based on 33 salaries]</td>\n",
       "      <td>[Data Scientist\\n ,  \\n3-4 yrs exp]</td>\n",
       "      <td>₹ 11.0L</td>\n",
       "      <td>₹ 14.4L</td>\n",
       "      <td>₹ 11.0L</td>\n",
       "    </tr>\n",
       "    <tr>\n",
       "      <th>5</th>\n",
       "      <td>[UnitedHealth, based on 52 salaries]</td>\n",
       "      <td>[Data Scientist\\n ,  \\n2-4 yrs exp]</td>\n",
       "      <td>₹ 21.3L</td>\n",
       "      <td>₹ 13.9L</td>\n",
       "      <td>₹ 21.3L</td>\n",
       "    </tr>\n",
       "    <tr>\n",
       "      <th>6</th>\n",
       "      <td>[Verizon, based on 14 salaries]</td>\n",
       "      <td>[Data Scientist\\n ,  \\n4 yrs exp]</td>\n",
       "      <td>₹ 9.5L</td>\n",
       "      <td>₹ 12.7L</td>\n",
       "      <td>₹ 9.5L</td>\n",
       "    </tr>\n",
       "    <tr>\n",
       "      <th>7</th>\n",
       "      <td>[Ganit Business Solutions, based on 13 salaries]</td>\n",
       "      <td>[Data Scientist\\n ,  \\n4 yrs exp]</td>\n",
       "      <td>₹ 22.0L</td>\n",
       "      <td>₹ 12.4L</td>\n",
       "      <td>₹ 22.0L</td>\n",
       "    </tr>\n",
       "    <tr>\n",
       "      <th>8</th>\n",
       "      <td>[Ericsson, based on 43 salaries]</td>\n",
       "      <td>[Data Scientist\\n ,  \\n3-4 yrs exp]</td>\n",
       "      <td>₹ 8.3L</td>\n",
       "      <td>₹ 11.9L</td>\n",
       "      <td>₹ 8.3L</td>\n",
       "    </tr>\n",
       "    <tr>\n",
       "      <th>9</th>\n",
       "      <td>[Deloitte, based on 57 salaries]</td>\n",
       "      <td>[Data Scientist\\n ,  \\n2-4 yrs exp]</td>\n",
       "      <td>₹ 20.0L</td>\n",
       "      <td>₹ 11.7L</td>\n",
       "      <td>₹ 20.0L</td>\n",
       "    </tr>\n",
       "  </tbody>\n",
       "</table>\n",
       "</div>"
      ],
      "text/plain": [
       "                                     CompanyDetails  \\\n",
       "0                  [Ab Inbev, based on 28 salaries]   \n",
       "1                        [ZS, based on 15 salaries]   \n",
       "2                     [Optum, based on 25 salaries]   \n",
       "3         [Fractal Analytics, based on 77 salaries]   \n",
       "4           [Tiger Analytics, based on 33 salaries]   \n",
       "5              [UnitedHealth, based on 52 salaries]   \n",
       "6                   [Verizon, based on 14 salaries]   \n",
       "7  [Ganit Business Solutions, based on 13 salaries]   \n",
       "8                  [Ericsson, based on 43 salaries]   \n",
       "9                  [Deloitte, based on 57 salaries]   \n",
       "\n",
       "                            JobDetails Min_Salray Avg_Salary Max_Salary  \n",
       "0  [Data Scientist\\n ,  \\n3-4 yrs exp]    ₹ 15.0L    ₹ 20.3L    ₹ 15.0L  \n",
       "1    [Data Scientist\\n ,  \\n2 yrs exp]    ₹ 25.5L    ₹ 15.3L    ₹ 25.5L  \n",
       "2  [Data Scientist\\n ,  \\n3-4 yrs exp]     ₹ 9.5L    ₹ 15.1L     ₹ 9.5L  \n",
       "3  [Data Scientist\\n ,  \\n2-4 yrs exp]    ₹ 20.0L    ₹ 15.1L    ₹ 20.0L  \n",
       "4  [Data Scientist\\n ,  \\n3-4 yrs exp]    ₹ 11.0L    ₹ 14.4L    ₹ 11.0L  \n",
       "5  [Data Scientist\\n ,  \\n2-4 yrs exp]    ₹ 21.3L    ₹ 13.9L    ₹ 21.3L  \n",
       "6    [Data Scientist\\n ,  \\n4 yrs exp]     ₹ 9.5L    ₹ 12.7L     ₹ 9.5L  \n",
       "7    [Data Scientist\\n ,  \\n4 yrs exp]    ₹ 22.0L    ₹ 12.4L    ₹ 22.0L  \n",
       "8  [Data Scientist\\n ,  \\n3-4 yrs exp]     ₹ 8.3L    ₹ 11.9L     ₹ 8.3L  \n",
       "9  [Data Scientist\\n ,  \\n2-4 yrs exp]    ₹ 20.0L    ₹ 11.7L    ₹ 20.0L  "
      ]
     },
     "execution_count": 204,
     "metadata": {},
     "output_type": "execute_result"
    }
   ],
   "source": [
    "Salary_deatils"
   ]
  },
  {
   "cell_type": "code",
   "execution_count": null,
   "id": "6830ffc0",
   "metadata": {},
   "outputs": [],
   "source": []
  }
 ],
 "metadata": {
  "kernelspec": {
   "display_name": "Python 3",
   "language": "python",
   "name": "python3"
  },
  "language_info": {
   "codemirror_mode": {
    "name": "ipython",
    "version": 3
   },
   "file_extension": ".py",
   "mimetype": "text/x-python",
   "name": "python",
   "nbconvert_exporter": "python",
   "pygments_lexer": "ipython3",
   "version": "3.8.8"
  }
 },
 "nbformat": 4,
 "nbformat_minor": 5
}
